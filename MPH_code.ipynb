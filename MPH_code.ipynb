{
  "cells": [
    {
      "cell_type": "markdown",
      "id": "a33cd940",
      "metadata": {
        "id": "a33cd940"
      },
      "source": [
        "# SELENIUM code part"
      ]
    },
    {
      "cell_type": "code",
      "execution_count": null,
      "id": "bb76396c",
      "metadata": {
        "id": "bb76396c"
      },
      "outputs": [],
      "source": [
        "# Import necessary libraries\n",
        "# !pip install selenium\n",
        "from selenium import webdriver\n",
        "from selenium.webdriver.chrome.service import Service\n",
        "from selenium.webdriver.common.keys import Keys\n",
        "from selenium.webdriver.common.by import By"
      ]
    },
    {
      "cell_type": "code",
      "execution_count": null,
      "id": "d50cda77",
      "metadata": {
        "id": "d50cda77"
      },
      "outputs": [],
      "source": [
        "# Set the path to the webdriver\n",
        "service = Service(\"C:\\\\Users\\\\73184\\\\OneDrive - HUBBELL INC\\\\Documentos\\\\Selenium_programs\\\\Billings_Prueba\\\\chromediver.exe\")\n",
        "#service = Service(\"C:\\\\Users\\\\73184\\\\OneDrive - HUBBELL INC\\\\Documentos\\\\Selenium_programs\\\\chromediver.exe\")\n",
        "driver = webdriver.Chrome(service = service)\n",
        "\n",
        "# Open the website\n",
        "page = driver.get(\"https://hubbell.okta.com/app/UserHome\")\n",
        "driver.implicitly_wait(1)\n",
        "\n",
        "# Enter to dashboard\n",
        "# name = input(\"Enter your username \")\n",
        "page = driver.find_element(By.NAME,\"username\")\n",
        "# page.send_keys(name)\n",
        "page.send_keys(73184)\n",
        "\n",
        "# password = input(\"Enter your password \")\n",
        "page = driver.find_element(By.NAME,\"password\")\n",
        "# page.send_keys(password)\n",
        "page.send_keys(\"Hubbell2023Toluca\")\n",
        "page.send_keys(Keys.ENTER)\n",
        "driver.implicitly_wait(2)\n",
        "\n",
        "# Answer question\n",
        "# answer = input(\"Enter your answer \")\n",
        "page = driver.find_element(By.NAME,\"answer\")\n",
        "page.send_keys(\"chayote\")\n",
        "page.send_keys(Keys.ENTER)\n",
        "driver.implicitly_wait(4)\n",
        "\n",
        "# App search\n",
        "page = driver.find_element(By.NAME,\"search\")\n",
        "page.send_keys(\"PR1 005\")\n",
        "page.send_keys(Keys.ENTER)\n",
        "\n",
        "# Click to open window\n",
        "popup = driver.find_element(By.CSS_SELECTOR,\"#root > div > o-modal > div:nth-child(1) > o-button:nth-child(2) > div\")\n",
        "popup.click()\n",
        "driver.implicitly_wait(3)\n",
        "\n",
        "# Set the path to the second webdriver\n",
        "page_2 = driver.get(\"http://hubps4h1.ad.hubbellplano.com/sap/saml2/sp/acs/005\")\n",
        "\n",
        "# Open SAP window\n",
        "page_2 = driver.find_element(By.CSS_SELECTOR,\"#proceed-button\")\n",
        "page_2.click()"
      ]
    },
    {
      "cell_type": "code",
      "execution_count": null,
      "id": "58723df3",
      "metadata": {
        "id": "58723df3"
      },
      "outputs": [],
      "source": [
        "# Close process\n",
        "driver.quit()"
      ]
    },
    {
      "cell_type": "markdown",
      "id": "9916b584",
      "metadata": {
        "id": "9916b584"
      },
      "source": [
        "# SAP code part"
      ]
    },
    {
      "cell_type": "markdown",
      "id": "15fc8d74",
      "metadata": {
        "id": "15fc8d74"
      },
      "source": [
        "### NET SALES"
      ]
    },
    {
      "cell_type": "code",
      "execution_count": null,
      "id": "4d18195c",
      "metadata": {
        "id": "4d18195c"
      },
      "outputs": [],
      "source": [
        "# Importing the Libraries\n",
        "import win32com.client\n",
        "import pandas as pd\n",
        "from datetime import datetime\n",
        "import subprocess"
      ]
    },
    {
      "cell_type": "code",
      "execution_count": null,
      "id": "79dee816",
      "metadata": {
        "scrolled": true,
        "id": "79dee816",
        "outputId": "eb410ce1-14f2-440e-f0d5-85c49c71df3f"
      },
      "outputs": [
        {
          "name": "stdout",
          "output_type": "stream",
          "text": [
            "Ingresa el periodo de inicio(número) 5\n",
            "Ingresa el periodo final(número) 5\n"
          ]
        }
      ],
      "source": [
        "periodo_ini = input(\"Ingresa el periodo de inicio(número) \")\n",
        "periodo_fin = input(\"Ingresa el periodo final(número) \")"
      ]
    },
    {
      "cell_type": "code",
      "execution_count": null,
      "id": "0533b216",
      "metadata": {
        "id": "0533b216"
      },
      "outputs": [],
      "source": [
        "# New window\n",
        "SapGuiAuto = win32com.client.GetObject('SAPGUI')\n",
        "application = SapGuiAuto.GetScriptingEngine\n",
        "connection = application.Children(0)\n",
        "session = connection.Children(0)\n",
        "now = datetime.now()\n",
        "session.findById(\"wnd[0]\").resizeWorkingPane (89,20,False)\n",
        "session.createSession()"
      ]
    },
    {
      "cell_type": "code",
      "execution_count": null,
      "id": "e66dd0fc",
      "metadata": {
        "id": "e66dd0fc"
      },
      "outputs": [],
      "source": [
        "# Net sales excel\n",
        "# Connection\n",
        "SapGuiAuto = win32com.client.GetObject('SAPGUI')\n",
        "application = SapGuiAuto.GetScriptingEngine\n",
        "connection = application.Children(0)\n",
        "session = connection.Children(0)\n",
        "now = datetime.now()\n",
        "\n",
        "# Steps\n",
        "session.findById(\"wnd[0]\").maximize()\n",
        "session.findById(\"wnd[0]/tbar[0]/okcd\").text = \"GRR3\"\n",
        "session.findById(\"wnd[0]\").sendVKey (0)\n",
        "session.findById(\"wnd[0]/shellcont/shell\").selectedNode = \"00000113\"\n",
        "session.findById(\"wnd[0]/shellcont/shell\").topNode = \"00000099\"\n",
        "session.findById(\"wnd[0]/shellcont/shell\").doubleClickNode (\"00000113\")\n",
        "session.findById(\"wnd[0]/shellcont/shell\").doubleClickNode (\"00000113\")\n",
        "session.findById(\"wnd[0]\").sendVKey (0)\n",
        "session.findById(\"wnd[0]/shellcont/shell\").doubleClickNode (\"00000113\")\n",
        "session.findById(\"wnd[0]/shellcont/shell\").expandNode (\"00000113\")\n",
        "session.findById(\"wnd[0]/shellcont/shell\").topNode = \"00000099\"\n",
        "session.findById(\"wnd[0]/tbar[0]/btn[71]\").press()\n",
        "session.findById(\"wnd[1]/usr/txtRSYSF-STRING\").text = \"ZBURPROD\"\n",
        "session.findById(\"wnd[1]/usr/txtRSYSF-STRING\").caretPosition = 8\n",
        "session.findById(\"wnd[1]/tbar[0]/btn[0]\").press()\n",
        "session.findById(\"wnd[2]/tbar[0]/btn[0]\").press()\n",
        "session.findById(\"wnd[1]/usr/chkSCAN_STRING-RANGE\").selected = True\n",
        "session.findById(\"wnd[1]/usr/chkSCAN_STRING-RANGE\").setFocus\n",
        "session.findById(\"wnd[1]/tbar[0]/btn[0]\").press()\n",
        "session.findById(\"wnd[2]/tbar[0]/btn[0]\").press()\n",
        "session.findById(\"wnd[1]/usr/chkSCAN_STRING-START\").selected = False\n",
        "session.findById(\"wnd[1]/usr/chkSCAN_STRING-START\").setFocus\n",
        "session.findById(\"wnd[1]/tbar[0]/btn[0]\").press()\n",
        "session.findById(\"wnd[2]/tbar[0]/btn[0]\").press()\n",
        "session.findById(\"wnd[1]/tbar[0]/btn[12]\").press()\n",
        "session.findById(\"wnd[0]/shellcont/shell\").selectedNode = \"000000001006\"\n",
        "session.findById(\"wnd[0]/shellcont/shell\").doubleClickNode (\"000000001006\")\n",
        "session.findById(\"wnd[0]/tbar[1]/btn[8]\").press()\n",
        "session.findById(\"wnd[0]/usr/ctxt$8AKOKRS\").text = \"HICA\"\n",
        "session.findById(\"wnd[0]/usr/ctxt$8A-VON\").text = periodo_ini\n",
        "session.findById(\"wnd[0]/usr/ctxt$8A-BIS\").text = periodo_fin\n",
        "session.findById(\"wnd[0]/usr/ctxt$8A-BIS\").setFocus\n",
        "session.findById(\"wnd[0]/usr/ctxt$8A-BIS\").caretPosition = 3\n",
        "session.findById(\"wnd[0]/tbar[1]/btn[8]\").press()\n",
        "session.findById(\"wnd[0]/tbar[0]/btn[71]\").press()\n",
        "session.findById(\"wnd[1]/usr/txtRSYSF-STRING\").text = \"NET SALES\"\n",
        "session.findById(\"wnd[1]/usr/txtRSYSF-STRING\").caretPosition = 9\n",
        "session.findById(\"wnd[1]/tbar[0]/btn[0]\").press()\n",
        "session.findById(\"wnd[2]/usr/lbl[77,2]\").setFocus\n",
        "session.findById(\"wnd[2]/usr/lbl[77,2]\").caretPosition = 4\n",
        "session.findById(\"wnd[2]\").sendVKey (2)\n",
        "session.findById(\"wnd[0]/usr/lbl[77,8]\").caretPosition = 6\n",
        "session.findById(\"wnd[0]\").sendVKey (2)\n",
        "session.findById(\"wnd[1]/usr/lbl[1,1]\").caretPosition = 29\n",
        "session.findById(\"wnd[1]/tbar[0]/btn[2]\").press()\n",
        "session.findById(\"wnd[1]/usr/txtPARA\").text = \"2\"\n",
        "session.findById(\"wnd[1]/tbar[0]/btn[0]\").press()\n",
        "session.findById(\"wnd[0]/tbar[1]/btn[33]\").press()\n",
        "session.findById(\"wnd[1]/usr/ssubD0500_SUBSCREEN:SAPLSLVC_DIALOG:0501/cntlG51_CONTAINER/shellcont/shell\").currentCellRow = 36\n",
        "session.findById(\"wnd[1]/usr/ssubD0500_SUBSCREEN:SAPLSLVC_DIALOG:0501/cntlG51_CONTAINER/shellcont/shell\").firstVisibleRow = 35\n",
        "session.findById(\"wnd[1]/usr/ssubD0500_SUBSCREEN:SAPLSLVC_DIALOG:0501/cntlG51_CONTAINER/shellcont/shell\").selectedRows = \"36\"\n",
        "session.findById(\"wnd[1]/usr/ssubD0500_SUBSCREEN:SAPLSLVC_DIALOG:0501/cntlG51_CONTAINER/shellcont/shell\").clickCurrentCell()\n",
        "session.findById(\"wnd[0]/mbar/menu[0]/menu[1]/menu[1]\").select()\n",
        "session.findById(\"wnd[1]/tbar[0]/btn[0]\").press()\n",
        "session.findById(\"wnd[1]/usr/ctxtDY_FILENAME\").text = \"NET_SALES.XLSX\"\n",
        "session.findById(\"wnd[1]/usr/ctxtDY_FILENAME\").caretPosition = 9\n",
        "session.findById(\"wnd[1]/tbar[0]/btn[0]\").press()"
      ]
    },
    {
      "cell_type": "markdown",
      "id": "48b10e27",
      "metadata": {
        "id": "48b10e27"
      },
      "source": [
        "### STANDART COST OF SALES"
      ]
    },
    {
      "cell_type": "code",
      "execution_count": null,
      "id": "38998d2a",
      "metadata": {
        "id": "38998d2a"
      },
      "outputs": [],
      "source": [
        "# New window\n",
        "SapGuiAuto = win32com.client.GetObject('SAPGUI')\n",
        "application = SapGuiAuto.GetScriptingEngine\n",
        "connection = application.Children(0)\n",
        "session = connection.Children(0)\n",
        "now = datetime.now()\n",
        "session.findById(\"wnd[0]\").resizeWorkingPane (89,20,False)\n",
        "session.createSession()\n",
        "\n",
        "# Connection\n",
        "SapGuiAuto = win32com.client.GetObject('SAPGUI')\n",
        "application = SapGuiAuto.GetScriptingEngine\n",
        "connection = application.Children(0)\n",
        "session = connection.Children(0)\n",
        "now = datetime.now()\n",
        "\n",
        "#Steps\n",
        "session.findById(\"wnd[0]\").resizeWorkingPane (89,20,False)\n",
        "session.findById(\"wnd[0]/tbar[0]/okcd\").text = \"grr3\"\n",
        "session.findById(\"wnd[0]\").sendVKey (0)\n",
        "session.findById(\"wnd[0]/shellcont/shell\").topNode = \"00000113\"\n",
        "session.findById(\"wnd[0]/shellcont/shell\").doubleClickNode (\"000000001006\")\n",
        "session.findById(\"wnd[0]/tbar[1]/btn[8]\").press()\n",
        "session.findById(\"wnd[0]/usr/ctxt$8AKOKRS\").text = \"HICA\"\n",
        "session.findById(\"wnd[0]/usr/ctxt$8A-YEAR\").text = \"2023\"\n",
        "session.findById(\"wnd[0]/usr/ctxt$8A-VON\").text = periodo_ini\n",
        "session.findById(\"wnd[0]/usr/ctxt$8A-BIS\").text = periodo_fin\n",
        "session.findById(\"wnd[0]/usr/ctxt$8A-BIS\").setFocus\n",
        "session.findById(\"wnd[0]/usr/ctxt$8A-BIS\").caretPosition = 3\n",
        "session.findById(\"wnd[0]/tbar[1]/btn[8]\").press()\n",
        "session.findById(\"wnd[0]/tbar[0]/btn[71]\").press()\n",
        "session.findById(\"wnd[1]/usr/txtRSYSF-STRING\").text = \"STANDARD COST\"\n",
        "session.findById(\"wnd[1]/tbar[0]/btn[0]\").press()\n",
        "session.findById(\"wnd[2]/usr/lbl[77,2]\").setFocus\n",
        "session.findById(\"wnd[2]/usr/lbl[77,2]\").caretPosition = 4\n",
        "session.findById(\"wnd[2]\").sendVKey (2)\n",
        "session.findById(\"wnd[0]/usr/lbl[51,8]\").caretPosition = 3\n",
        "session.findById(\"wnd[0]\").sendVKey (2)\n",
        "session.findById(\"wnd[1]/usr/lbl[1,1]\").caretPosition = 22\n",
        "session.findById(\"wnd[1]\").sendVKey (2)\n",
        "session.findById(\"wnd[1]/usr/txtPARA\").text = \"2\"\n",
        "session.findById(\"wnd[1]/tbar[0]/btn[0]\").press()\n",
        "session.findById(\"wnd[0]/tbar[1]/btn[33]\").press()\n",
        "session.findById(\"wnd[1]/usr/ssubD0500_SUBSCREEN:SAPLSLVC_DIALOG:0501/cntlG51_CONTAINER/shellcont/shell\").currentCellRow = 36\n",
        "session.findById(\"wnd[1]/usr/ssubD0500_SUBSCREEN:SAPLSLVC_DIALOG:0501/cntlG51_CONTAINER/shellcont/shell\").firstVisibleRow = 33\n",
        "session.findById(\"wnd[1]/usr/ssubD0500_SUBSCREEN:SAPLSLVC_DIALOG:0501/cntlG51_CONTAINER/shellcont/shell\").selectedRows = \"36\"\n",
        "session.findById(\"wnd[1]/usr/ssubD0500_SUBSCREEN:SAPLSLVC_DIALOG:0501/cntlG51_CONTAINER/shellcont/shell\").clickCurrentCell()\n",
        "session.findById(\"wnd[0]/mbar/menu[0]/menu[1]/menu[1]\").select()\n",
        "session.findById(\"wnd[1]/tbar[0]/btn[0]\").press()\n",
        "session.findById(\"wnd[1]/usr/ctxtDY_FILENAME\").text = \"STANDARD_COST.XLSX\"\n",
        "session.findById(\"wnd[1]/usr/ctxtDY_FILENAME\").caretPosition = 20\n",
        "session.findById(\"wnd[1]/tbar[0]/btn[0]\").press()"
      ]
    },
    {
      "cell_type": "markdown",
      "id": "a645f0d5",
      "metadata": {
        "id": "a645f0d5"
      },
      "source": [
        "### ZSD09N"
      ]
    },
    {
      "cell_type": "code",
      "execution_count": null,
      "id": "f2e1620a",
      "metadata": {
        "id": "f2e1620a",
        "outputId": "40e39f43-88ae-4d91-c5a4-ea6192a48da1"
      },
      "outputs": [
        {
          "name": "stdout",
          "output_type": "stream",
          "text": [
            "Enter first date in format mm/dd/yyyy 05/01/2023\n",
            "Enter last date in format mm/dd/yyyy 05/31/2023\n"
          ]
        }
      ],
      "source": [
        "# Dates\n",
        "# Select dates to download data\n",
        "date_ini = input(\"Enter first date in format mm/dd/yyyy \")\n",
        "date_fin = input(\"Enter last date in format mm/dd/yyyy \")"
      ]
    },
    {
      "cell_type": "code",
      "execution_count": null,
      "id": "d72fce54",
      "metadata": {
        "id": "d72fce54"
      },
      "outputs": [],
      "source": [
        "# New window\n",
        "SapGuiAuto = win32com.client.GetObject('SAPGUI')\n",
        "application = SapGuiAuto.GetScriptingEngine\n",
        "connection = application.Children(0)\n",
        "session = connection.Children(0)\n",
        "now = datetime.now()\n",
        "session.findById(\"wnd[0]\").resizeWorkingPane (89,20,False)\n",
        "session.createSession()\n",
        "\n",
        "# Connection\n",
        "SapGuiAuto = win32com.client.GetObject('SAPGUI')\n",
        "application = SapGuiAuto.GetScriptingEngine\n",
        "connection = application.Children(0)\n",
        "session = connection.Children(0)\n",
        "now = datetime.now()\n",
        "\n",
        "session.findById(\"wnd[0]\").resizeWorkingPane (89,20,False)\n",
        "session.findById(\"wnd[0]/tbar[0]/okcd\").text = \"ZSD09N\"\n",
        "session.findById(\"wnd[0]\").sendVKey (0)\n",
        "session.findById(\"wnd[0]/tbar[1]/btn[17]\").press()\n",
        "session.findById(\"wnd[1]/usr/txtENAME-LOW\").text = \"\"\n",
        "session.findById(\"wnd[1]/usr/txtENAME-LOW\").setFocus\n",
        "session.findById(\"wnd[1]/usr/txtENAME-LOW\").caretPosition = 0\n",
        "session.findById(\"wnd[1]/tbar[0]/btn[8]\").press()\n",
        "session.findById(\"wnd[1]/usr/cntlALV_CONTAINER_1/shellcont/shell\").pressToolbarButton (\"&FIND\")\n",
        "session.findById(\"wnd[2]/usr/txtGS_SEARCH-VALUE\").text = \"/C362BOOK-BILL\"\n",
        "session.findById(\"wnd[2]/usr/txtGS_SEARCH-VALUE\").caretPosition = 14\n",
        "session.findById(\"wnd[2]/tbar[0]/btn[0]\").press()\n",
        "session.findById(\"wnd[2]/tbar[0]/btn[12]\").press()\n",
        "session.findById(\"wnd[1]/usr/cntlALV_CONTAINER_1/shellcont/shell\").selectedRows = \"20\"\n",
        "session.findById(\"wnd[1]/usr/cntlALV_CONTAINER_1/shellcont/shell\").doubleClickCurrentCell()\n",
        "session.findById(\"wnd[0]/usr/ctxtSP$00009-LOW\").text = date_ini\n",
        "session.findById(\"wnd[0]/usr/ctxtSP$00009-HIGH\").text = date_fin\n",
        "session.findById(\"wnd[0]/usr/ctxtSP$00009-HIGH\").setFocus\n",
        "session.findById(\"wnd[0]/usr/ctxtSP$00009-HIGH\").caretPosition = 10\n",
        "session.findById(\"wnd[0]/tbar[1]/btn[8]\").press()\n",
        "session.findById(\"wnd[0]/usr/cntlCONTAINER/shellcont/shell\").pressToolbarContextButton (\"&MB_EXPORT\")\n",
        "session.findById(\"wnd[0]/usr/cntlCONTAINER/shellcont/shell\").selectContextMenuItem (\"&XXL\")\n",
        "session.findById(\"wnd[1]/usr/radRB_1\").setFocus\n",
        "session.findById(\"wnd[1]/usr/radRB_1\").select()\n",
        "session.findById(\"wnd[1]/usr/radRB_OTHERS\").setFocus\n",
        "session.findById(\"wnd[1]/usr/radRB_OTHERS\").select()\n",
        "session.findById(\"wnd[1]/usr/cmbG_LISTBOX\").setFocus\n",
        "session.findById(\"wnd[1]/tbar[0]/btn[12]\").press()\n",
        "session.findById(\"wnd[0]/usr/cntlCONTAINER/shellcont/shell\").pressToolbarContextButton (\"&MB_EXPORT\")\n",
        "session.findById(\"wnd[0]/usr/cntlCONTAINER/shellcont/shell\").selectContextMenuItem (\"&XXL\")\n",
        "session.findById(\"wnd[1]/tbar[0]/btn[0]\").press()\n",
        "session.findById(\"wnd[1]/usr/ctxtDY_FILENAME\").text = \"ZSD09N.XLSX\"\n",
        "session.findById(\"wnd[1]/usr/ctxtDY_FILENAME\").caretPosition = 8\n",
        "session.findById(\"wnd[1]/tbar[0]/btn[0]\").press()"
      ]
    },
    {
      "cell_type": "markdown",
      "id": "f22ab3b9",
      "metadata": {
        "id": "f22ab3b9"
      },
      "source": [
        "### VENDEDORES"
      ]
    },
    {
      "cell_type": "code",
      "execution_count": null,
      "id": "582885f8",
      "metadata": {
        "id": "582885f8",
        "outputId": "9f0dbfb7-f76c-4e8c-f296-7759f09519fe"
      },
      "outputs": [
        {
          "ename": "com_error",
          "evalue": "(-2147352567, 'Exception occurred.', (619, 'SAP Frontend Server', 'The control could not be found by id.', 'c:\\\\program files (x86)\\\\sap\\\\frontend\\\\sapgui\\\\sapfront.HLP', 393215, 0), None)",
          "output_type": "error",
          "traceback": [
            "\u001b[1;31m---------------------------------------------------------------------------\u001b[0m",
            "\u001b[1;31mcom_error\u001b[0m                                 Traceback (most recent call last)",
            "\u001b[1;32m~\\AppData\\Local\\Temp\\ipykernel_3900\\2387492339.py\u001b[0m in \u001b[0;36m<module>\u001b[1;34m\u001b[0m\n\u001b[0;32m     72\u001b[0m \u001b[0msession\u001b[0m\u001b[1;33m.\u001b[0m\u001b[0mfindById\u001b[0m\u001b[1;33m(\u001b[0m\u001b[1;34m\"wnd[1]/usr/ctxtDY_FILENAME\"\u001b[0m\u001b[1;33m)\u001b[0m\u001b[1;33m.\u001b[0m\u001b[0mcaretPosition\u001b[0m \u001b[1;33m=\u001b[0m \u001b[1;36m10\u001b[0m\u001b[1;33m\u001b[0m\u001b[1;33m\u001b[0m\u001b[0m\n\u001b[0;32m     73\u001b[0m \u001b[0msession\u001b[0m\u001b[1;33m.\u001b[0m\u001b[0mfindById\u001b[0m\u001b[1;33m(\u001b[0m\u001b[1;34m\"wnd[1]/tbar[0]/btn[0]\"\u001b[0m\u001b[1;33m)\u001b[0m\u001b[1;33m.\u001b[0m\u001b[0mpress\u001b[0m\u001b[1;33m(\u001b[0m\u001b[1;33m)\u001b[0m\u001b[1;33m\u001b[0m\u001b[1;33m\u001b[0m\u001b[0m\n\u001b[1;32m---> 74\u001b[1;33m \u001b[0msession\u001b[0m\u001b[1;33m.\u001b[0m\u001b[0mfindById\u001b[0m\u001b[1;33m(\u001b[0m\u001b[1;34m\"wnd[1]/tbar[0]/btn[11]\"\u001b[0m\u001b[1;33m)\u001b[0m\u001b[1;33m.\u001b[0m\u001b[0mpress\u001b[0m\u001b[1;33m(\u001b[0m\u001b[1;33m)\u001b[0m\u001b[1;33m\u001b[0m\u001b[1;33m\u001b[0m\u001b[0m\n\u001b[0m",
            "\u001b[1;32m~\\Anaconda3\\lib\\site-packages\\win32com\\client\\dynamic.py\u001b[0m in \u001b[0;36mfindById\u001b[1;34m(self, *args)\u001b[0m\n",
            "\u001b[1;31mcom_error\u001b[0m: (-2147352567, 'Exception occurred.', (619, 'SAP Frontend Server', 'The control could not be found by id.', 'c:\\\\program files (x86)\\\\sap\\\\frontend\\\\sapgui\\\\sapfront.HLP', 393215, 0), None)"
          ]
        }
      ],
      "source": [
        "# New window\n",
        "SapGuiAuto = win32com.client.GetObject('SAPGUI')\n",
        "application = SapGuiAuto.GetScriptingEngine\n",
        "connection = application.Children(0)\n",
        "session = connection.Children(0)\n",
        "now = datetime.now()\n",
        "session.findById(\"wnd[0]\").resizeWorkingPane (89,20,False)\n",
        "session.createSession()\n",
        "\n",
        "# Connection\n",
        "SapGuiAuto = win32com.client.GetObject('SAPGUI')\n",
        "application = SapGuiAuto.GetScriptingEngine\n",
        "connection = application.Children(0)\n",
        "session = connection.Children(0)\n",
        "now = datetime.now()\n",
        "\n",
        "# Steps\n",
        "session.findById(\"wnd[0]\").resizeWorkingPane (89,20,False)\n",
        "session.findById(\"wnd[0]\").maximize\n",
        "session.findById(\"wnd[0]/tbar[0]/okcd\").text = \"ZSD09N\"\n",
        "session.findById(\"wnd[0]\").sendVKey (0)\n",
        "session.findById(\"wnd[0]/tbar[1]/btn[17]\").press()\n",
        "session.findById(\"wnd[1]/usr/txtENAME-LOW\").text = \"\"\n",
        "session.findById(\"wnd[1]/usr/txtENAME-LOW\").setFocus\n",
        "session.findById(\"wnd[1]/usr/txtENAME-LOW\").caretPosition = 0\n",
        "session.findById(\"wnd[1]/tbar[0]/btn[8]\").press()\n",
        "session.findById(\"wnd[1]/usr/cntlALV_CONTAINER_1/shellcont/shell\").pressToolbarButton (\"&FIND\")\n",
        "session.findById(\"wnd[2]/usr/txtGS_SEARCH-VALUE\").text = \"/C362BOOKBILL\"\n",
        "session.findById(\"wnd[2]/usr/txtGS_SEARCH-VALUE\").caretPosition = 13\n",
        "session.findById(\"wnd[2]/tbar[0]/btn[0]\").press()\n",
        "session.findById(\"wnd[2]/usr/txtGS_SEARCH-VALUE\").text = \"/C362 BOOKBILL\"\n",
        "session.findById(\"wnd[2]/usr/txtGS_SEARCH-VALUE\").setFocus\n",
        "session.findById(\"wnd[2]/usr/txtGS_SEARCH-VALUE\").caretPosition = 6\n",
        "session.findById(\"wnd[2]/tbar[0]/btn[0]\").press()\n",
        "session.findById(\"wnd[2]/usr/txtGS_SEARCH-VALUE\").text = \"/C362\"\n",
        "session.findById(\"wnd[2]/usr/txtGS_SEARCH-VALUE\").setFocus\n",
        "session.findById(\"wnd[2]/usr/txtGS_SEARCH-VALUE\").caretPosition = 5\n",
        "session.findById(\"wnd[2]/tbar[0]/btn[0]\").press()\n",
        "session.findById(\"wnd[2]/tbar[0]/btn[0]\").press()\n",
        "session.findById(\"wnd[2]/usr/txtGS_SEARCH-VALUE\").text = \"/C362BOOK-BILL\"\n",
        "session.findById(\"wnd[2]/usr/txtGS_SEARCH-VALUE\").setFocus\n",
        "session.findById(\"wnd[2]/usr/txtGS_SEARCH-VALUE\").caretPosition = 14\n",
        "session.findById(\"wnd[2]/tbar[0]/btn[0]\").press()\n",
        "session.findById(\"wnd[2]/tbar[0]/btn[0]\").press()\n",
        "session.findById(\"wnd[2]/usr/chkGS_SEARCH-EXACT_WORD\").selected = True\n",
        "session.findById(\"wnd[2]/usr/chkGS_SEARCH-EXACT_WORD\").setFocus\n",
        "session.findById(\"wnd[2]/tbar[0]/btn[0]\").press()\n",
        "session.findById(\"wnd[2]/usr/lblGS_SEARCH-SEARCH_INFO\").setFocus\n",
        "session.findById(\"wnd[2]/usr/lblGS_SEARCH-SEARCH_INFO\").caretPosition = 0\n",
        "session.findById(\"wnd[2]\").close()\n",
        "session.findById(\"wnd[1]/usr/cntlALV_CONTAINER_1/shellcont/shell\").selectedRows = \"20\"\n",
        "session.findById(\"wnd[1]/usr/cntlALV_CONTAINER_1/shellcont/shell\").doubleClickCurrentCell()\n",
        "session.findById(\"wnd[0]/usr/ctxtP_PARVW-LOW\").text = \"\"\n",
        "session.findById(\"wnd[0]/usr/ctxtP_PARVW-LOW\").caretPosition = 0\n",
        "session.findById(\"wnd[0]/usr/btn%_P_PARVW_%_APP_%-VALU_PUSH\").press()\n",
        "session.findById(\"wnd[1]/usr/tabsTAB_STRIP/tabpSIVA/ssubSCREEN_HEADER:SAPLALDB:3010/tblSAPLALDBSINGLE/ctxtRSCSEL_255-SLOW_I[1,0]\").text = \"Y1\"\n",
        "session.findById(\"wnd[1]/usr/tabsTAB_STRIP/tabpSIVA/ssubSCREEN_HEADER:SAPLALDB:3010/tblSAPLALDBSINGLE/ctxtRSCSEL_255-SLOW_I[1,1]\").text = \"Y2\"\n",
        "session.findById(\"wnd[1]/usr/tabsTAB_STRIP/tabpSIVA/ssubSCREEN_HEADER:SAPLALDB:3010/tblSAPLALDBSINGLE/ctxtRSCSEL_255-SLOW_I[1,2]\").text = \"Y3\"\n",
        "session.findById(\"wnd[1]/usr/tabsTAB_STRIP/tabpSIVA/ssubSCREEN_HEADER:SAPLALDB:3010/tblSAPLALDBSINGLE/ctxtRSCSEL_255-SLOW_I[1,3]\").text = \"Y4\"\n",
        "session.findById(\"wnd[1]/usr/tabsTAB_STRIP/tabpSIVA/ssubSCREEN_HEADER:SAPLALDB:3010/tblSAPLALDBSINGLE/ctxtRSCSEL_255-SLOW_I[1,3]\").setFocus\n",
        "session.findById(\"wnd[1]/usr/tabsTAB_STRIP/tabpSIVA/ssubSCREEN_HEADER:SAPLALDB:3010/tblSAPLALDBSINGLE/ctxtRSCSEL_255-SLOW_I[1,3]\").caretPosition = 2\n",
        "session.findById(\"wnd[1]/tbar[0]/btn[8]\").press()\n",
        "session.findById(\"wnd[0]/usr/ctxtSP$00009-LOW\").text = date_ini\n",
        "session.findById(\"wnd[0]/usr/ctxtSP$00009-HIGH\").text = date_fin\n",
        "session.findById(\"wnd[0]/usr/ctxtSP$00009-HIGH\").setFocus\n",
        "session.findById(\"wnd[0]/usr/ctxtSP$00009-HIGH\").caretPosition = 10\n",
        "session.findById(\"wnd[0]/tbar[1]/btn[8]\").press()\n",
        "session.findById(\"wnd[0]/usr/cntlCONTAINER/shellcont/shell\").pressToolbarContextButton (\"&MB_EXPORT\")\n",
        "session.findById(\"wnd[0]/usr/cntlCONTAINER/shellcont/shell\").selectContextMenuItem (\"&XXL\")\n",
        "session.findById(\"wnd[1]/tbar[0]/btn[0]\").press()\n",
        "session.findById(\"wnd[1]/usr/ctxtDY_FILENAME\").text = \"Vendedores.XLSX\"\n",
        "session.findById(\"wnd[1]/usr/ctxtDY_FILENAME\").caretPosition = 10\n",
        "session.findById(\"wnd[1]/tbar[0]/btn[0]\").press()\n",
        "session.findById(\"wnd[1]/tbar[0]/btn[11]\").press()"
      ]
    },
    {
      "cell_type": "markdown",
      "id": "cbe26042",
      "metadata": {
        "id": "cbe26042"
      },
      "source": [
        "## ZY"
      ]
    },
    {
      "cell_type": "code",
      "execution_count": null,
      "id": "7acbda07",
      "metadata": {
        "id": "7acbda07"
      },
      "outputs": [],
      "source": [
        "# zy excel\n",
        "# new window\n",
        "SapGuiAuto = win32com.client.GetObject('SAPGUI')\n",
        "application = SapGuiAuto.GetScriptingEngine\n",
        "connection = application.Children(0)\n",
        "session = connection.Children(0)\n",
        "now = datetime.now()\n",
        "session.findById(\"wnd[0]\").resizeWorkingPane (89,20,False)\n",
        "session.createSession()\n",
        "\n",
        "# Connection\n",
        "SapGuiAuto = win32com.client.GetObject('SAPGUI')\n",
        "application = SapGuiAuto.GetScriptingEngine\n",
        "connection = application.Children(0)\n",
        "session = connection.Children(0)\n",
        "now = datetime.now()\n",
        "\n",
        "# Steps\n",
        "session.findById(\"wnd[0]\").resizeWorkingPane (89,20,False)\n",
        "session.findById(\"wnd[0]/tbar[0]/okcd\").text = \"zsd01n\"\n",
        "session.findById(\"wnd[0]/tbar[0]/btn[0]\").press()\n",
        "session.findById(\"wnd[0]/tbar[1]/btn[17]\").press()\n",
        "session.findById(\"wnd[1]/usr/txtENAME-LOW\").text = \"\"\n",
        "session.findById(\"wnd[1]/usr/txtENAME-LOW\").setFocus\n",
        "session.findById(\"wnd[1]/usr/txtENAME-LOW\").caretPosition = 0\n",
        "session.findById(\"wnd[1]/tbar[0]/btn[8]\").press()\n",
        "session.findById(\"wnd[1]/usr/cntlALV_CONTAINER_1/shellcont/shell\").pressToolbarButton (\"&FIND\")\n",
        "session.findById(\"wnd[2]/usr/txtGS_SEARCH-VALUE\").text = \"c362\"\n",
        "session.findById(\"wnd[2]/usr/txtGS_SEARCH-VALUE\").caretPosition = 4\n",
        "session.findById(\"wnd[2]/tbar[0]/btn[0]\").press()\n",
        "session.findById(\"wnd[2]/tbar[0]/btn[0]\").press()\n",
        "session.findById(\"wnd[2]/tbar[0]/btn[12]\").press()\n",
        "session.findById(\"wnd[1]/usr/cntlALV_CONTAINER_1/shellcont/shell\").selectedRows = \"31\"\n",
        "session.findById(\"wnd[1]/tbar[0]/btn[2]\").press()\n",
        "session.findById(\"wnd[0]/usr/ctxtP_PARVW\").text = \"ZY\"\n",
        "session.findById(\"wnd[0]/usr/ctxtSP$00009-LOW\").text = \"\"\n",
        "session.findById(\"wnd[0]/usr/ctxtSP$00002-LOW\").text = date_ini\n",
        "session.findById(\"wnd[0]/usr/ctxtSP$00002-HIGH\").text = date_fin\n",
        "session.findById(\"wnd[0]/usr/ctxtSP$00002-HIGH\").setFocus\n",
        "session.findById(\"wnd[0]/usr/ctxtSP$00002-HIGH\").caretPosition = 10\n",
        "session.findById(\"wnd[0]/tbar[1]/btn[8]\").press()\n",
        "session.findById(\"wnd[0]/mbar/menu[0]/menu[4]/menu[1]\").select()\n",
        "session.findById(\"wnd[1]/tbar[0]/btn[0]\").press()\n",
        "#session.findById(\"wnd[1]/usr/ctxtDY_PATH\").text = \"Z:\\ANALISIS DE VENTAS\\2023 ANALISIS DE VENTAS\\BASE DE DATOS\\Dashboard_Billings\"\n",
        "#session.findById(\"wnd[1]/usr/ctxtDY_PATH\").text = \"C:\\\\Users\\\\73184\\\\OneDrive - HUBBELL INC\\\\Documentos\\\\Selenium_programs\"\n",
        "session.findById(\"wnd[1]/usr/ctxtDY_FILENAME\").text = \"zy.XLSX\"\n",
        "session.findById(\"wnd[1]/usr/ctxtDY_FILENAME\").caretPosition = 2\n",
        "session.findById(\"wnd[1]/tbar[0]/btn[0]\").press()"
      ]
    },
    {
      "cell_type": "markdown",
      "id": "924c48bb",
      "metadata": {
        "id": "924c48bb"
      },
      "source": [
        "## MASTER MATERIAL"
      ]
    },
    {
      "cell_type": "code",
      "execution_count": null,
      "id": "66dc3a36",
      "metadata": {
        "id": "66dc3a36"
      },
      "outputs": [],
      "source": [
        "# new window\n",
        "SapGuiAuto = win32com.client.GetObject('SAPGUI')\n",
        "application = SapGuiAuto.GetScriptingEngine\n",
        "connection = application.Children(0)\n",
        "session = connection.Children(0)\n",
        "now = datetime.now()\n",
        "session.findById(\"wnd[0]\").resizeWorkingPane (89,20,False)\n",
        "session.createSession()\n",
        "\n",
        "# Connection\n",
        "SapGuiAuto = win32com.client.GetObject('SAPGUI')\n",
        "application = SapGuiAuto.GetScriptingEngine\n",
        "connection = application.Children(0)\n",
        "session = connection.Children(0)\n",
        "now = datetime.now()\n",
        "\n",
        "# Steps\n",
        "session.findById(\"wnd[0]\").resizeWorkingPane (89,20,False)\n",
        "session.findById(\"wnd[0]/tbar[0]/okcd\").text = \"ZMM_DATAMINE\"\n",
        "session.findById(\"wnd[0]\").sendVKey (0)\n",
        "session.findById(\"wnd[0]/usr/ctxtS_WERKS-LOW\").text = \"3620\"\n",
        "session.findById(\"wnd[0]/usr/ctxtS_WERKS-HIGH\").text = \"3621\"\n",
        "session.findById(\"wnd[0]/usr/ctxtS_WERKS-HIGH\").setFocus\n",
        "session.findById(\"wnd[0]/usr/ctxtS_WERKS-HIGH\").caretPosition = 4\n",
        "session.findById(\"wnd[0]/tbar[1]/btn[8]\").press()\n",
        "session.findById(\"wnd[0]/usr/cntlGRID1/shellcont/shell\").firstVisibleColumn = \"ZMMQ_DATA_MINE-PDGRP\"\n",
        "session.findById(\"wnd[0]/tbar[1]/btn[32]\").press()\n",
        "session.findById(\"wnd[1]/usr/tabsG_TS_ALV/tabpALV_M_R1/ssubSUB_DYN0510:SAPLSKBH:0620/cntlCONTAINER1_LAYO/shellcont/shell\").pressToolbarButton (\"&FIND\")\n",
        "session.findById(\"wnd[2]/usr/txtGS_SEARCH-VALUE\").text = \"Product-line\"\n",
        "session.findById(\"wnd[2]/usr/txtGS_SEARCH-VALUE\").caretPosition = 12\n",
        "session.findById(\"wnd[2]\").sendVKey (0)\n",
        "session.findById(\"wnd[2]/usr/txtGS_SEARCH-VALUE\").text = \"Price unit\"\n",
        "session.findById(\"wnd[2]/usr/txtGS_SEARCH-VALUE\").setFocus\n",
        "session.findById(\"wnd[2]/usr/txtGS_SEARCH-VALUE\").caretPosition = 10\n",
        "session.findById(\"wnd[2]\").sendVKey (0)\n",
        "session.findById(\"wnd[2]/tbar[0]/btn[0]\").press()\n",
        "session.findById(\"wnd[2]/tbar[0]/btn[0]\").press()\n",
        "session.findById(\"wnd[2]/tbar[0]/btn[12]\").press()\n",
        "session.findById(\"wnd[1]/usr/tabsG_TS_ALV/tabpALV_M_R1/ssubSUB_DYN0510:SAPLSKBH:0620/btnAPP_WL_SING\").press()\n",
        "session.findById(\"wnd[1]/usr/tabsG_TS_ALV/tabpALV_M_R1/ssubSUB_DYN0510:SAPLSKBH:0620/cntlCONTAINER2_LAYO/shellcont/shell\").currentCellRow = 16\n",
        "session.findById(\"wnd[1]/usr/tabsG_TS_ALV/tabpALV_M_R1/ssubSUB_DYN0510:SAPLSKBH:0620/cntlCONTAINER2_LAYO/shellcont/shell\").firstVisibleRow = 4\n",
        "session.findById(\"wnd[1]/usr/tabsG_TS_ALV/tabpALV_M_R1/ssubSUB_DYN0510:SAPLSKBH:0620/cntlCONTAINER2_LAYO/shellcont/shell\").selectedRows = \"16\"\n",
        "session.findById(\"wnd[1]/usr/tabsG_TS_ALV/tabpALV_M_R1/ssubSUB_DYN0510:SAPLSKBH:0620/cntlCONTAINER1_LAYO/shellcont/shell\").pressToolbarButton (\"&FIND\")\n",
        "session.findById(\"wnd[2]/usr/txtGS_SEARCH-VALUE\").text = \"description\"\n",
        "session.findById(\"wnd[2]/usr/txtGS_SEARCH-VALUE\").caretPosition = 11\n",
        "session.findById(\"wnd[2]\").sendVKey (0)\n",
        "session.findById(\"wnd[2]/usr/chkGS_SEARCH-EXACT_WORD\").selected = True\n",
        "session.findById(\"wnd[2]/usr/chkGS_SEARCH-EXACT_WORD\").setFocus\n",
        "session.findById(\"wnd[2]/tbar[0]/btn[0]\").press()\n",
        "session.findById(\"wnd[2]/usr/txtGS_SEARCH-VALUE\").text = \"material description\"\n",
        "session.findById(\"wnd[2]/usr/txtGS_SEARCH-VALUE\").setFocus\n",
        "session.findById(\"wnd[2]/usr/txtGS_SEARCH-VALUE\").caretPosition = 8\n",
        "session.findById(\"wnd[2]\").sendVKey (0)\n",
        "session.findById(\"wnd[2]/usr/chkGS_SEARCH-EXACT_WORD\").selected = False\n",
        "session.findById(\"wnd[2]/usr/chkGS_SEARCH-EXACT_WORD\").setFocus\n",
        "session.findById(\"wnd[2]\").sendVKey (0)\n",
        "session.findById(\"wnd[2]/tbar[0]/btn[0]\").press()\n",
        "session.findById(\"wnd[2]/tbar[0]/btn[0]\").press()\n",
        "session.findById(\"wnd[2]/tbar[0]/btn[12]\").press()\n",
        "session.findById(\"wnd[1]/usr/tabsG_TS_ALV/tabpALV_M_R1/ssubSUB_DYN0510:SAPLSKBH:0620/cntlCONTAINER1_LAYO/shellcont/shell\").currentCellRow = 57\n",
        "session.findById(\"wnd[1]/usr/tabsG_TS_ALV/tabpALV_M_R1/ssubSUB_DYN0510:SAPLSKBH:0620/cntlCONTAINER1_LAYO/shellcont/shell\").firstVisibleRow = 48\n",
        "session.findById(\"wnd[1]/usr/tabsG_TS_ALV/tabpALV_M_R1/ssubSUB_DYN0510:SAPLSKBH:0620/cntlCONTAINER1_LAYO/shellcont/shell\").selectedRows = \"57\"\n",
        "session.findById(\"wnd[1]/usr/tabsG_TS_ALV/tabpALV_M_R1/ssubSUB_DYN0510:SAPLSKBH:0620/btnAPP_FL_SING\").press()\n",
        "session.findById(\"wnd[1]/tbar[0]/btn[0]\").press()\n",
        "session.findById(\"wnd[1]/tbar[0]/btn[0]\").press()\n",
        "session.findById(\"wnd[0]/tbar[1]/btn[32]\").press()\n",
        "session.findById(\"wnd[1]/usr/tabsG_TS_ALV/tabpALV_M_R1/ssubSUB_DYN0510:SAPLSKBH:0620/cntlCONTAINER1_LAYO/shellcont/shell\").currentCellRow = 58\n",
        "session.findById(\"wnd[1]/usr/tabsG_TS_ALV/tabpALV_M_R1/ssubSUB_DYN0510:SAPLSKBH:0620/cntlCONTAINER1_LAYO/shellcont/shell\").firstVisibleRow = 55\n",
        "session.findById(\"wnd[1]/usr/tabsG_TS_ALV/tabpALV_M_R1/ssubSUB_DYN0510:SAPLSKBH:0620/cntlCONTAINER1_LAYO/shellcont/shell\").selectedRows = \"58\"\n",
        "session.findById(\"wnd[1]/usr/tabsG_TS_ALV/tabpALV_M_R1/ssubSUB_DYN0510:SAPLSKBH:0620/cntlCONTAINER2_LAYO/shellcont/shell\").firstVisibleRow = 3\n",
        "session.findById(\"wnd[1]/usr/tabsG_TS_ALV/tabpALV_M_R1/ssubSUB_DYN0510:SAPLSKBH:0620/btnAPP_WL_SING\").press()\n",
        "session.findById(\"wnd[1]/usr/tabsG_TS_ALV/tabpALV_M_R1/ssubSUB_DYN0510:SAPLSKBH:0620/cntlCONTAINER2_LAYO/shellcont/shell\").firstVisibleRow = 4\n",
        "session.findById(\"wnd[1]/tbar[0]/btn[0]\").press()\n",
        "session.findById(\"wnd[0]/usr/cntlGRID1/shellcont/shell\").firstVisibleColumn = \"ZMMQ_DATA_MINE-PRODH\"\n",
        "session.findById(\"wnd[0]/tbar[1]/btn[32]\").press()\n",
        "session.findById(\"wnd[1]/usr/tabsG_TS_ALV/tabpALV_M_R1/ssubSUB_DYN0510:SAPLSKBH:0620/cntlCONTAINER1_LAYO/shellcont/shell\").pressToolbarButton (\"&FIND\")\n",
        "session.findById(\"wnd[2]/usr/txtGS_SEARCH-VALUE\").text = \"price unit\"\n",
        "session.findById(\"wnd[2]/usr/txtGS_SEARCH-VALUE\").caretPosition = 10\n",
        "session.findById(\"wnd[2]\").sendVKey (0)\n",
        "session.findById(\"wnd[2]/usr/txtGS_SEARCH-VALUE\").text = \"Price unit\"\n",
        "session.findById(\"wnd[2]/usr/txtGS_SEARCH-VALUE\").setFocus\n",
        "session.findById(\"wnd[2]/usr/txtGS_SEARCH-VALUE\").caretPosition = 1\n",
        "session.findById(\"wnd[2]\").sendVKey (0)\n",
        "session.findById(\"wnd[2]/usr/txtGS_SEARCH-VALUE\").text = \"Unit price\"\n",
        "session.findById(\"wnd[2]/usr/txtGS_SEARCH-VALUE\").setFocus\n",
        "session.findById(\"wnd[2]/usr/txtGS_SEARCH-VALUE\").caretPosition = 10\n",
        "session.findById(\"wnd[2]\").sendVKey (0)\n",
        "session.findById(\"wnd[2]/usr/txtGS_SEARCH-VALUE\").text = \"Unit\"\n",
        "session.findById(\"wnd[2]/usr/txtGS_SEARCH-VALUE\").setFocus\n",
        "session.findById(\"wnd[2]/usr/txtGS_SEARCH-VALUE\").caretPosition = 4\n",
        "session.findById(\"wnd[2]\").sendVKey (0)\n",
        "session.findById(\"wnd[2]/tbar[0]/btn[12]\").press()\n",
        "session.findById(\"wnd[1]/usr/tabsG_TS_ALV/tabpALV_M_R1/ssubSUB_DYN0510:SAPLSKBH:0620/cntlCONTAINER2_LAYO/shellcont/shell\").firstVisibleRow = 4\n",
        "session.findById(\"wnd[1]/usr/tabsG_TS_ALV/tabpALV_M_R1/ssubSUB_DYN0510:SAPLSKBH:0620/cntlCONTAINER1_LAYO/shellcont/shell\").currentCellRow = 185\n",
        "session.findById(\"wnd[1]/usr/tabsG_TS_ALV/tabpALV_M_R1/ssubSUB_DYN0510:SAPLSKBH:0620/cntlCONTAINER1_LAYO/shellcont/shell\").firstVisibleRow = 172\n",
        "session.findById(\"wnd[1]/usr/tabsG_TS_ALV/tabpALV_M_R1/ssubSUB_DYN0510:SAPLSKBH:0620/cntlCONTAINER1_LAYO/shellcont/shell\").selectedRows = \"185\"\n",
        "session.findById(\"wnd[1]/tbar[0]/btn[0]\").press()\n",
        "session.findById(\"wnd[0]/usr/cntlGRID1/shellcont/shell\").firstVisibleColumn = \"ZMMQ_DATA_MINE-PRODH\"\n",
        "session.findById(\"wnd[0]/mbar/menu[0]/menu[4]/menu[1]\").select()\n",
        "session.findById(\"wnd[1]/tbar[0]/btn[0]\").press()\n",
        "#session.findById(\"wnd[1]/usr/ctxtDY_PATH\").text = \"C:\\Users\\73184\\OneDrive - HUBBELL INC\\Documentos\\Selenium_programs\\Billings\"\n",
        "session.findById(\"wnd[1]/usr/ctxtDY_FILENAME\").text = \"MM_MES.XLSX\"\n",
        "session.findById(\"wnd[1]/usr/ctxtDY_FILENAME\").caretPosition = 6\n",
        "session.findById(\"wnd[1]/tbar[0]/btn[0]\").press()"
      ]
    },
    {
      "cell_type": "markdown",
      "id": "6e49006f",
      "metadata": {
        "id": "6e49006f"
      },
      "source": [
        "## LIMPIEZA DE BASE NET SALES CHECAR"
      ]
    },
    {
      "cell_type": "code",
      "execution_count": null,
      "id": "f8056c22",
      "metadata": {
        "scrolled": true,
        "id": "f8056c22",
        "outputId": "5159c3e0-0004-4495-8fce-bfde162d2bb4"
      },
      "outputs": [
        {
          "name": "stderr",
          "output_type": "stream",
          "text": [
            "C:\\Users\\73184\\AppData\\Local\\Temp\\ipykernel_19672\\2725593330.py:16: SettingWithCopyWarning: \n",
            "A value is trying to be set on a copy of a slice from a DataFrame.\n",
            "Try using .loc[row_indexer,col_indexer] = value instead\n",
            "\n",
            "See the caveats in the documentation: https://pandas.pydata.org/pandas-docs/stable/user_guide/indexing.html#returning-a-view-versus-a-copy\n",
            "  filtered_df['Division'] = ''\n"
          ]
        }
      ],
      "source": [
        "'''\n",
        "FILTRO CIERRE DE MES\n",
        "\"Accr - Ret.& Allow.\",\"Cash  Discounts\",\"Freight Billed Cust\",\"Misc Sales Ded Man\",\"Misc Sales Deduct\",\n",
        "\"Program Accruals\"\n",
        "'''\n",
        "import pandas as pd\n",
        "\n",
        "# Load the Excel file\n",
        "df = pd.read_excel('NET_SALES.xlsx')\n",
        "\n",
        "# Apply the filter\n",
        "filter_values = [\"Cash  Discounts\", \"Freight Billed Cust\", \"Misc Sales Ded Man\",\"Misc Sales Deduct\"]\n",
        "filtered_df = df[df['Acc.Text'].isin(filter_values)]\n",
        "\n",
        "# Delete values from the \"Division\" column\n",
        "filtered_df['Division'] = ''\n",
        "\n",
        "# Deselect the filter\n",
        "unfiltered_df = df[~df['Acc.Text'].isin(filter_values)]\n",
        "\n",
        "# Write the updated DataFrame to a new Excel file\n",
        "with pd.ExcelWriter('NET_SALES_F.xlsx') as writer:\n",
        "    filtered_df.to_excel(writer, sheet_name='Filtered', index=False)\n",
        "    unfiltered_df.to_excel(writer, sheet_name='Unfiltered', index=False)"
      ]
    },
    {
      "cell_type": "code",
      "execution_count": null,
      "id": "b85fac76",
      "metadata": {
        "id": "b85fac76"
      },
      "outputs": [],
      "source": [
        "filtered_df.to_excel(\"filtered_table_z.xlsx\",index=False)"
      ]
    },
    {
      "cell_type": "markdown",
      "id": "532c90d3",
      "metadata": {
        "id": "532c90d3"
      },
      "source": [
        "## Limpiar base ZSD09N"
      ]
    },
    {
      "cell_type": "code",
      "execution_count": null,
      "id": "05ce8f67",
      "metadata": {
        "id": "05ce8f67",
        "outputId": "18694135-f3c5-4b04-afcf-c4d12d8c996b"
      },
      "outputs": [
        {
          "name": "stdout",
          "output_type": "stream",
          "text": [
            "How many values want to delete? 1\n",
            "SAMPLE MARKETING\n",
            "How many values want to delete? 1\n"
          ]
        }
      ],
      "source": [
        "# COMPLETED\n",
        "# Filter excel files\n",
        "import pandas as pd\n",
        "import re\n",
        "\n",
        "file = \"ZSD09N.xlsx\"\n",
        "\n",
        "# Read the Excel file and store the data in a DataFrame\n",
        "try:\n",
        "    df = pd.read_excel(file, sheet_name='Sheet1')\n",
        "except FileNotFoundError:\n",
        "    print(\"Error: The file does not exist.\")\n",
        "    exit()\n",
        "except:\n",
        "    print(\"Error: An error occurred while reading the file.\")\n",
        "    exit()\n",
        "\n",
        "# Loop to delete values in Customer Name\n",
        "condition = int(input(\"How many values want to delete? \"))\n",
        "\n",
        "value = []\n",
        "for i in range(condition):\n",
        "    v = \"SAMPLE MARKETING\"\n",
        "    if v != 0:\n",
        "        df = df.loc[df[\"Customer Name\"] != v]\n",
        "        print(v)\n",
        "    else:\n",
        "        pass\n",
        "    if i >= condition:\n",
        "        break\n",
        "\n",
        "# Loop to delete values in Material\n",
        "condition1 = int(input(\"How many values want to delete? \"))\n",
        "value1 = []\n",
        "\n",
        "v1 = \"_\"\n",
        "for n in range(condition1):\n",
        "    if v1 != 0:\n",
        "        rows_to_delete = df['Material'].str.contains('_', na=False)\n",
        "        # Delete the rows\n",
        "        df.drop(df[rows_to_delete].index, inplace=True)\n",
        "    else:\n",
        "        pass\n",
        "    if n >= condition1:\n",
        "        break\n",
        "\n",
        "# Write the modified DataFrame to an Excel file\n",
        "df.to_excel(file,index=False)"
      ]
    },
    {
      "cell_type": "markdown",
      "id": "6d6786b6",
      "metadata": {
        "id": "6d6786b6"
      },
      "source": [
        "## Creación de Tabla Billings"
      ]
    },
    {
      "cell_type": "code",
      "execution_count": null,
      "id": "00812829",
      "metadata": {
        "scrolled": true,
        "id": "00812829"
      },
      "outputs": [],
      "source": [
        "# Merge sheets in excel format\n",
        "import openpyxl\n",
        "\n",
        "# Open Billings Excel file\n",
        "file1 = \"NET_SALES.xlsx\"\n",
        "wb1 = openpyxl.load_workbook(file1)\n",
        "\n",
        "# Get the sheet you want to rename\n",
        "sheet = wb1['Sheet1']\n",
        "\n",
        "# Rename the sheet\n",
        "sheet.title = \"Billing\"\n",
        "\n",
        "# Open Cost Excel file\n",
        "file2 = \"STANDARD_COST.xlsx\"\n",
        "wb2 = openpyxl.load_workbook(file2)\n",
        "\n",
        "# Create  Cost sheet in the first workbook\n",
        "name_sheet = \"Cost\"\n",
        "merged_sheet = wb1.create_sheet(name_sheet)\n",
        "\n",
        "# Iterate over the sheets in the second workbook\n",
        "for sheet in wb2:\n",
        "    # Iterate over the rows in the sheet\n",
        "    for row in sheet.iter_rows():\n",
        "        # Append each row to the merged sheet\n",
        "        merged_sheet.append([cell.value for cell in row])\n",
        "\n",
        "# ZY sheet\n",
        "# Open the second Excel file\n",
        "file3 = \"zy.xlsx\"\n",
        "wb3 = openpyxl.load_workbook(file3)\n",
        "\n",
        "# Create a new sheet in the first workbook\n",
        "name_sheet = \"Zy\"\n",
        "merged_sheet = wb1.create_sheet(name_sheet)\n",
        "\n",
        "# Iterate over the sheets in the second workbook\n",
        "for sheet in wb3:\n",
        "    # Iterate over the rows in the sheet\n",
        "    for row in sheet.iter_rows():\n",
        "        # Append each row to the merged sheet\n",
        "        merged_sheet.append([cell.value for cell in row])\n",
        "\n",
        "# Revenue sheet\n",
        "# Open the second Excel file\n",
        "file4 = \"Revenue.xlsx\"\n",
        "wb4 = openpyxl.load_workbook(file4)\n",
        "\n",
        "# Create a new sheet in the first workbook\n",
        "name_sheet = \"Revenue\"\n",
        "merged_sheet = wb1.create_sheet(name_sheet)\n",
        "\n",
        "# Iterate over the sheets in the second workbook\n",
        "for sheet in wb4:\n",
        "    # Iterate over the rows in the sheet\n",
        "    for row in sheet.iter_rows():\n",
        "        # Append each row to the merged sheet\n",
        "        merged_sheet.append([cell.value for cell in row])\n",
        "\n",
        "# ZSD09N sheet\n",
        "# Open the second Excel file\n",
        "file5 = \"ZSD09N.xlsx\"\n",
        "wb5 = openpyxl.load_workbook(file5)\n",
        "\n",
        "# Create a new sheet in the first workbook\n",
        "name_sheet = \"ZSD09N\"\n",
        "merged_sheet = wb1.create_sheet(name_sheet)\n",
        "\n",
        "# Iterate over the sheets in the second workbook\n",
        "for sheet in wb5:\n",
        "    # Iterate over the rows in the sheet\n",
        "    for row in sheet.iter_rows():\n",
        "        # Append each row to the merged sheet\n",
        "        merged_sheet.append([cell.value for cell in row])\n",
        "\n",
        "# Master Material sheet\n",
        "# Open the second Excel file\n",
        "file6 = \"MM.xlsx\"\n",
        "wb6 = openpyxl.load_workbook(file6)\n",
        "\n",
        "# Create a new sheet in the first workbook\n",
        "name_sheet = \"MM\"\n",
        "merged_sheet = wb1.create_sheet(name_sheet)\n",
        "\n",
        "# Iterate over the sheets in the second workbook\n",
        "for sheet in wb6:\n",
        "    # Iterate over the rows in the sheet\n",
        "    for row in sheet.iter_rows():\n",
        "        # Append each row to the merged sheet\n",
        "        merged_sheet.append([cell.value for cell in row])\n",
        "\n",
        "# Plataformas sheet Data\n",
        "# Open the second Excel file\n",
        "file7 = \"Plataformas.xlsx\"\n",
        "wb7 = openpyxl.load_workbook(file7)\n",
        "\n",
        "# Create a new sheet in the first workbook\n",
        "name_sheet = \"Plataformas\"\n",
        "merged_sheet = wb1.create_sheet(name_sheet)\n",
        "\n",
        "# Iterate over the sheets in the second workbook\n",
        "for sheet in wb7:\n",
        "    # Iterate over the rows in the sheet\n",
        "    for row in sheet.iter_rows():\n",
        "        # Append each row to the merged sheet\n",
        "        merged_sheet.append([cell.value for cell in row])\n",
        "\n",
        "# HPL sheet Data\n",
        "# Open the second Excel file\n",
        "file8 = \"HPL.xlsx\"\n",
        "wb8 = openpyxl.load_workbook(file8)\n",
        "\n",
        "# Create a new sheet in the first workbook\n",
        "name_sheet = \"HPL\"\n",
        "merged_sheet = wb1.create_sheet(name_sheet)\n",
        "\n",
        "# Iterate over the sheets in the second workbook\n",
        "for sheet in wb8:\n",
        "    # Iterate over the rows in the sheet\n",
        "    for row in sheet.iter_rows():\n",
        "        # Append each row to the merged sheet\n",
        "        merged_sheet.append([cell.value for cell in row])\n",
        "\n",
        "# Asignaciones sheet Data\n",
        "# Open the second Excel file\n",
        "file9 = \"Asignaciones.xlsx\"\n",
        "wb9 = openpyxl.load_workbook(file9)\n",
        "\n",
        "# Create a new sheet in the first workbook\n",
        "name_sheet = \"Asignaciones\"\n",
        "merged_sheet = wb1.create_sheet(name_sheet)\n",
        "\n",
        "# Iterate over the sheets in the second workbook\n",
        "for sheet in wb9:\n",
        "    # Iterate over the rows in the sheet\n",
        "    for row in sheet.iter_rows():\n",
        "        # Append each row to the merged sheet\n",
        "        merged_sheet.append([cell.value for cell in row])\n",
        "\n",
        "# Vendedores sheet Data\n",
        "# Open the second Excel file\n",
        "file10 = \"vendedores.xlsx\"\n",
        "wb10 = openpyxl.load_workbook(file10)\n",
        "\n",
        "# Create a new sheet in the first workbook\n",
        "name_sheet = \"Vendedores\"\n",
        "merged_sheet = wb1.create_sheet(name_sheet)\n",
        "\n",
        "# Iterate over the sheets in the second workbook\n",
        "for sheet in wb10:\n",
        "    # Iterate over the rows in the sheet\n",
        "    for row in sheet.iter_rows():\n",
        "        # Append each row to the merged sheet\n",
        "        merged_sheet.append([cell.value for cell in row])\n",
        "\n",
        "# Material Stock sheet Data\n",
        "# Open the second Excel file\n",
        "file11 = \"MS.xlsx\"\n",
        "wb11 = openpyxl.load_workbook(file11)\n",
        "\n",
        "# Create a new sheet in the first workbook\n",
        "name_sheet = \"MS\"\n",
        "merged_sheet = wb1.create_sheet(name_sheet)\n",
        "\n",
        "# Iterate over the sheets in the second workbook\n",
        "for sheet in wb11:\n",
        "    # Iterate over the rows in the sheet\n",
        "    for row in sheet.iter_rows():\n",
        "        # Append each row to the merged sheet\n",
        "        merged_sheet.append([cell.value for cell in row])\n",
        "\n",
        "# Save the first workbook with the merged sheet\n",
        "wb1.save(\"Final\" + file1)\n",
        "\n",
        "import os\n",
        "# Define the original file name and the new file name\n",
        "old_file_name = \"FinalNET_SALES.xlsx\"\n",
        "new_file_name = \"Billings_General.xlsx\"\n",
        "\n",
        "# Use the os.rename() function to rename the file\n",
        "os.rename(old_file_name, new_file_name)"
      ]
    },
    {
      "cell_type": "markdown",
      "id": "f57c5dc5",
      "metadata": {
        "id": "f57c5dc5"
      },
      "source": [
        "## PIVOT TABLES"
      ]
    },
    {
      "cell_type": "code",
      "execution_count": null,
      "id": "36215572",
      "metadata": {
        "scrolled": true,
        "id": "36215572"
      },
      "outputs": [],
      "source": [
        "import pandas as pd\n",
        "import numpy as np\n",
        "\n",
        "df = pd.read_excel(\"Billings_General.xlsx\",sheet_name=\"Billing\")"
      ]
    },
    {
      "cell_type": "code",
      "execution_count": null,
      "id": "6ad87245",
      "metadata": {
        "id": "6ad87245"
      },
      "outputs": [],
      "source": [
        "df_1 = df"
      ]
    },
    {
      "cell_type": "code",
      "execution_count": null,
      "id": "0b2d8afa",
      "metadata": {
        "id": "0b2d8afa"
      },
      "outputs": [],
      "source": [
        "# Period filter\n",
        "Posting_Period = [5]\n",
        "df_1f = df_1[df_1[\"Posting Period\"].isin(Posting_Period)]"
      ]
    },
    {
      "cell_type": "code",
      "execution_count": null,
      "id": "41867fa0",
      "metadata": {
        "id": "41867fa0"
      },
      "outputs": [],
      "source": [
        "# Year filter\n",
        "Fiscal_Year = [2023]\n",
        "df_2f = df_1f[df_1f[\"Fiscal Year\"].isin(Fiscal_Year)]"
      ]
    },
    {
      "cell_type": "code",
      "execution_count": null,
      "id": "6aa3f59f",
      "metadata": {
        "id": "6aa3f59f"
      },
      "outputs": [],
      "source": [
        "# Acc.Text filter\n",
        "#Cierre\n",
        "#\"Allowances\",\"Cash  Discounts\",\"Freight Billed Cust\",\"Misc Sales Ded Man\",\"Misc Sales Deduct\",\n",
        "#\"Program Accruals\",\"Accr - Ret.& Allow.\",\"Returns\",\"Trade Sales Domestic\"\n",
        "Acc_Text = [\"Allowances\",\"Accr - Ret.& Allow.\",\"Cash  Discounts\",\"Freight Billed Cust\",\"Misc Sales Ded Man\",\"Misc Sales Deduct\",\n",
        "\"Program Accruals\",\"Returns\",\"Trade Sales Domestic\",\"\"]\n",
        "df_3f = df_2f[df_2f[\"Acc.Text\"].isin(Acc_Text)]"
      ]
    },
    {
      "cell_type": "markdown",
      "id": "20a97ded",
      "metadata": {
        "id": "20a97ded"
      },
      "source": [
        "## PROCESO CIERRE"
      ]
    },
    {
      "cell_type": "code",
      "execution_count": null,
      "id": "535eddb9",
      "metadata": {
        "id": "535eddb9"
      },
      "outputs": [],
      "source": [
        "# Filtro solo para cierre de mes\n",
        "# MRUIZ,AMOCTEZU ejercicio enero\n",
        "user = [\"MRUIZ2\"]\n",
        "df_4f = df_3f[df_3f[\"User Name\"].isin(user)]"
      ]
    },
    {
      "cell_type": "markdown",
      "id": "e0b33f67",
      "metadata": {
        "id": "e0b33f67"
      },
      "source": [
        "## PLATAFORMA"
      ]
    },
    {
      "cell_type": "code",
      "execution_count": null,
      "id": "5921157b",
      "metadata": {
        "id": "5921157b",
        "outputId": "24eb0b49-1844-4b1e-ec43-218a1d00bd4e"
      },
      "outputs": [
        {
          "name": "stderr",
          "output_type": "stream",
          "text": [
            "C:\\Users\\73184\\AppData\\Local\\Temp\\ipykernel_3900\\1687666390.py:1: SettingWithCopyWarning: \n",
            "A value is trying to be set on a copy of a slice from a DataFrame.\n",
            "Try using .loc[row_indexer,col_indexer] = value instead\n",
            "\n",
            "See the caveats in the documentation: https://pandas.pydata.org/pandas-docs/stable/user_guide/indexing.html#returning-a-view-versus-a-copy\n",
            "  df_3f[\"Plataformas\"] = df_3f[\"Plataformas\"].fillna(\"No Definido\")\n"
          ]
        }
      ],
      "source": [
        "df_3f[\"Plataformas\"] = df_3f[\"Plataformas\"].fillna(\"No Definido\")"
      ]
    },
    {
      "cell_type": "code",
      "execution_count": null,
      "id": "b92cc9c0",
      "metadata": {
        "scrolled": false,
        "id": "b92cc9c0",
        "outputId": "13ef06cf-5974-4c71-b5de-67ad5f13259a"
      },
      "outputs": [
        {
          "data": {
            "text/html": [
              "<div>\n",
              "<style scoped>\n",
              "    .dataframe tbody tr th:only-of-type {\n",
              "        vertical-align: middle;\n",
              "    }\n",
              "\n",
              "    .dataframe tbody tr th {\n",
              "        vertical-align: top;\n",
              "    }\n",
              "\n",
              "    .dataframe thead th {\n",
              "        text-align: right;\n",
              "    }\n",
              "</style>\n",
              "<table border=\"1\" class=\"dataframe\">\n",
              "  <thead>\n",
              "    <tr style=\"text-align: right;\">\n",
              "      <th></th>\n",
              "      <th>In company code currency</th>\n",
              "    </tr>\n",
              "    <tr>\n",
              "      <th>Plataformas</th>\n",
              "      <th></th>\n",
              "    </tr>\n",
              "  </thead>\n",
              "  <tbody>\n",
              "    <tr>\n",
              "      <th>BURNDY</th>\n",
              "      <td>-22513199.08</td>\n",
              "    </tr>\n",
              "    <tr>\n",
              "      <th>HCE</th>\n",
              "      <td>-1665027.27</td>\n",
              "    </tr>\n",
              "    <tr>\n",
              "      <th>HCI</th>\n",
              "      <td>-15749510.39</td>\n",
              "    </tr>\n",
              "    <tr>\n",
              "      <th>HPS</th>\n",
              "      <td>-3660145.51</td>\n",
              "    </tr>\n",
              "    <tr>\n",
              "      <th>No Definido</th>\n",
              "      <td>519382.47</td>\n",
              "    </tr>\n",
              "    <tr>\n",
              "      <th>All</th>\n",
              "      <td>-43068499.78</td>\n",
              "    </tr>\n",
              "  </tbody>\n",
              "</table>\n",
              "</div>"
            ],
            "text/plain": [
              "             In company code currency\n",
              "Plataformas                          \n",
              "BURNDY                   -22513199.08\n",
              "HCE                       -1665027.27\n",
              "HCI                      -15749510.39\n",
              "HPS                       -3660145.51\n",
              "No Definido                 519382.47\n",
              "All                      -43068499.78"
            ]
          },
          "execution_count": 20,
          "metadata": {},
          "output_type": "execute_result"
        }
      ],
      "source": [
        "import numpy as np\n",
        "table = pd.pivot_table(df_3f, values='In company code currency', index=[\"Plataformas\"], aggfunc=np.sum,margins=True)\n",
        "table"
      ]
    },
    {
      "cell_type": "markdown",
      "id": "c9a24fbe",
      "metadata": {
        "id": "c9a24fbe"
      },
      "source": [
        "## PLATAFORMA-MARCA"
      ]
    },
    {
      "cell_type": "code",
      "execution_count": null,
      "id": "5410863e",
      "metadata": {
        "id": "5410863e",
        "outputId": "05ccce79-0fb8-42cf-cbfe-5f34bf647c40"
      },
      "outputs": [
        {
          "name": "stderr",
          "output_type": "stream",
          "text": [
            "C:\\Users\\73184\\AppData\\Local\\Temp\\ipykernel_3900\\7004228.py:1: SettingWithCopyWarning: \n",
            "A value is trying to be set on a copy of a slice from a DataFrame.\n",
            "Try using .loc[row_indexer,col_indexer] = value instead\n",
            "\n",
            "See the caveats in the documentation: https://pandas.pydata.org/pandas-docs/stable/user_guide/indexing.html#returning-a-view-versus-a-copy\n",
            "  df_3f[\"Marca\"] = df_3f[\"Marca\"].fillna(\"No Definido\")\n"
          ]
        }
      ],
      "source": [
        "df_3f[\"Marca\"] = df_3f[\"Marca\"].fillna(\"No Definido\")"
      ]
    },
    {
      "cell_type": "code",
      "execution_count": null,
      "id": "8fed73d9",
      "metadata": {
        "id": "8fed73d9",
        "outputId": "9fb51a29-6d58-44b3-d337-da13f2ee64d8"
      },
      "outputs": [
        {
          "data": {
            "text/html": [
              "<div>\n",
              "<style scoped>\n",
              "    .dataframe tbody tr th:only-of-type {\n",
              "        vertical-align: middle;\n",
              "    }\n",
              "\n",
              "    .dataframe tbody tr th {\n",
              "        vertical-align: top;\n",
              "    }\n",
              "\n",
              "    .dataframe thead th {\n",
              "        text-align: right;\n",
              "    }\n",
              "</style>\n",
              "<table border=\"1\" class=\"dataframe\">\n",
              "  <thead>\n",
              "    <tr style=\"text-align: right;\">\n",
              "      <th></th>\n",
              "      <th></th>\n",
              "      <th>In company code currency</th>\n",
              "    </tr>\n",
              "    <tr>\n",
              "      <th>Plataformas</th>\n",
              "      <th>Marca</th>\n",
              "      <th></th>\n",
              "    </tr>\n",
              "  </thead>\n",
              "  <tbody>\n",
              "    <tr>\n",
              "      <th>BURNDY</th>\n",
              "      <th>BURNDY</th>\n",
              "      <td>-22513199.08</td>\n",
              "    </tr>\n",
              "    <tr>\n",
              "      <th>HCE</th>\n",
              "      <th>Killark</th>\n",
              "      <td>-1665027.27</td>\n",
              "    </tr>\n",
              "    <tr>\n",
              "      <th rowspan=\"5\" valign=\"top\">HCI</th>\n",
              "      <th>ACME</th>\n",
              "      <td>-148882.20</td>\n",
              "    </tr>\n",
              "    <tr>\n",
              "      <th>Bryant</th>\n",
              "      <td>-1292315.34</td>\n",
              "    </tr>\n",
              "    <tr>\n",
              "      <th>Premise</th>\n",
              "      <td>-1804121.66</td>\n",
              "    </tr>\n",
              "    <tr>\n",
              "      <th>RACO</th>\n",
              "      <td>-7213559.43</td>\n",
              "    </tr>\n",
              "    <tr>\n",
              "      <th>WDK</th>\n",
              "      <td>-5290631.76</td>\n",
              "    </tr>\n",
              "    <tr>\n",
              "      <th rowspan=\"4\" valign=\"top\">HPS</th>\n",
              "      <th>Chance</th>\n",
              "      <td>-1278070.81</td>\n",
              "    </tr>\n",
              "    <tr>\n",
              "      <th>Connectors</th>\n",
              "      <td>-312690.26</td>\n",
              "    </tr>\n",
              "    <tr>\n",
              "      <th>Ohio Brass</th>\n",
              "      <td>-1735952.39</td>\n",
              "    </tr>\n",
              "    <tr>\n",
              "      <th>Trinetics</th>\n",
              "      <td>-333432.05</td>\n",
              "    </tr>\n",
              "    <tr>\n",
              "      <th>No Definido</th>\n",
              "      <th>No Definido</th>\n",
              "      <td>519382.47</td>\n",
              "    </tr>\n",
              "    <tr>\n",
              "      <th>All</th>\n",
              "      <th></th>\n",
              "      <td>-43068499.78</td>\n",
              "    </tr>\n",
              "  </tbody>\n",
              "</table>\n",
              "</div>"
            ],
            "text/plain": [
              "                         In company code currency\n",
              "Plataformas Marca                                \n",
              "BURNDY      BURNDY                   -22513199.08\n",
              "HCE         Killark                   -1665027.27\n",
              "HCI         ACME                       -148882.20\n",
              "            Bryant                    -1292315.34\n",
              "            Premise                   -1804121.66\n",
              "            RACO                      -7213559.43\n",
              "            WDK                       -5290631.76\n",
              "HPS         Chance                    -1278070.81\n",
              "            Connectors                 -312690.26\n",
              "            Ohio Brass                -1735952.39\n",
              "            Trinetics                  -333432.05\n",
              "No Definido No Definido                 519382.47\n",
              "All                                  -43068499.78"
            ]
          },
          "execution_count": 22,
          "metadata": {},
          "output_type": "execute_result"
        }
      ],
      "source": [
        "import numpy as np\n",
        "table1 = pd.pivot_table(df_3f, values='In company code currency', index=[\"Plataformas\",\"Marca\"], aggfunc=np.sum,margins=True)\n",
        "table1"
      ]
    },
    {
      "cell_type": "markdown",
      "id": "19184226",
      "metadata": {
        "id": "19184226"
      },
      "source": [
        "## GERENTES"
      ]
    },
    {
      "cell_type": "code",
      "execution_count": null,
      "id": "54d21126",
      "metadata": {
        "id": "54d21126",
        "outputId": "887a6470-13fb-427e-b20d-8ee9372feaaf"
      },
      "outputs": [
        {
          "name": "stderr",
          "output_type": "stream",
          "text": [
            "C:\\Users\\73184\\AppData\\Local\\Temp\\ipykernel_3900\\2577012289.py:1: SettingWithCopyWarning: \n",
            "A value is trying to be set on a copy of a slice from a DataFrame.\n",
            "Try using .loc[row_indexer,col_indexer] = value instead\n",
            "\n",
            "See the caveats in the documentation: https://pandas.pydata.org/pandas-docs/stable/user_guide/indexing.html#returning-a-view-versus-a-copy\n",
            "  df_3f[\"Costo Total\"] = pd.to_numeric(df_3f['Costo Total'], errors='coerce')\n"
          ]
        }
      ],
      "source": [
        "df_3f[\"Costo Total\"] = pd.to_numeric(df_3f['Costo Total'], errors='coerce')"
      ]
    },
    {
      "cell_type": "code",
      "execution_count": null,
      "id": "72eeb4c6",
      "metadata": {
        "scrolled": false,
        "id": "72eeb4c6",
        "outputId": "05ad96ff-eef0-4b35-9416-2134b98cb4de"
      },
      "outputs": [
        {
          "data": {
            "text/html": [
              "<div>\n",
              "<style scoped>\n",
              "    .dataframe tbody tr th:only-of-type {\n",
              "        vertical-align: middle;\n",
              "    }\n",
              "\n",
              "    .dataframe tbody tr th {\n",
              "        vertical-align: top;\n",
              "    }\n",
              "\n",
              "    .dataframe thead th {\n",
              "        text-align: right;\n",
              "    }\n",
              "</style>\n",
              "<table border=\"1\" class=\"dataframe\">\n",
              "  <thead>\n",
              "    <tr style=\"text-align: right;\">\n",
              "      <th></th>\n",
              "      <th>Costo Total</th>\n",
              "      <th>In company code currency</th>\n",
              "    </tr>\n",
              "    <tr>\n",
              "      <th>Gerente</th>\n",
              "      <th></th>\n",
              "      <th></th>\n",
              "    </tr>\n",
              "  </thead>\n",
              "  <tbody>\n",
              "    <tr>\n",
              "      <th>JUAN CARLOS PRIOR</th>\n",
              "      <td>-9.251170e+06</td>\n",
              "      <td>-20224245.09</td>\n",
              "    </tr>\n",
              "    <tr>\n",
              "      <th>MONICA CUEVAS</th>\n",
              "      <td>-9.500079e+06</td>\n",
              "      <td>-22795110.40</td>\n",
              "    </tr>\n",
              "    <tr>\n",
              "      <th>Sin definir</th>\n",
              "      <td>-1.211385e+04</td>\n",
              "      <td>-49144.29</td>\n",
              "    </tr>\n",
              "    <tr>\n",
              "      <th>All</th>\n",
              "      <td>-1.876336e+07</td>\n",
              "      <td>-43068499.78</td>\n",
              "    </tr>\n",
              "  </tbody>\n",
              "</table>\n",
              "</div>"
            ],
            "text/plain": [
              "                    Costo Total  In company code currency\n",
              "Gerente                                                  \n",
              "JUAN CARLOS PRIOR -9.251170e+06              -20224245.09\n",
              "MONICA CUEVAS     -9.500079e+06              -22795110.40\n",
              "Sin definir       -1.211385e+04                 -49144.29\n",
              "All               -1.876336e+07              -43068499.78"
            ]
          },
          "execution_count": 24,
          "metadata": {},
          "output_type": "execute_result"
        }
      ],
      "source": [
        "import numpy as np\n",
        "table2 = pd.pivot_table(df_3f, values=['In company code currency',\"Costo Total\"], index=[\"Gerente\"], aggfunc=np.sum,margins=True)\n",
        "table2"
      ]
    },
    {
      "cell_type": "markdown",
      "id": "e84edb3f",
      "metadata": {
        "id": "e84edb3f"
      },
      "source": [
        "## VENDEDORES"
      ]
    },
    {
      "cell_type": "code",
      "execution_count": null,
      "id": "d15407b6",
      "metadata": {
        "id": "d15407b6"
      },
      "outputs": [],
      "source": [
        "gerentes= [\"JUAN CARLOS PRIOR\",\"MONICA CUEVAS\"]\n",
        "df_3g = df_3f[df_3f[\"Gerente\"].isin(gerentes)]"
      ]
    },
    {
      "cell_type": "code",
      "execution_count": null,
      "id": "4d68954c",
      "metadata": {
        "id": "4d68954c",
        "outputId": "c2af026c-e075-4bb8-c7a6-831702211d13"
      },
      "outputs": [
        {
          "data": {
            "text/html": [
              "<div>\n",
              "<style scoped>\n",
              "    .dataframe tbody tr th:only-of-type {\n",
              "        vertical-align: middle;\n",
              "    }\n",
              "\n",
              "    .dataframe tbody tr th {\n",
              "        vertical-align: top;\n",
              "    }\n",
              "\n",
              "    .dataframe thead th {\n",
              "        text-align: right;\n",
              "    }\n",
              "</style>\n",
              "<table border=\"1\" class=\"dataframe\">\n",
              "  <thead>\n",
              "    <tr style=\"text-align: right;\">\n",
              "      <th></th>\n",
              "      <th></th>\n",
              "      <th></th>\n",
              "      <th>In company code currency</th>\n",
              "    </tr>\n",
              "    <tr>\n",
              "      <th>Gerente</th>\n",
              "      <th>Vendedor</th>\n",
              "      <th>Customer Name</th>\n",
              "      <th></th>\n",
              "    </tr>\n",
              "  </thead>\n",
              "  <tbody>\n",
              "    <tr>\n",
              "      <th rowspan=\"5\" valign=\"top\">JUAN CARLOS PRIOR</th>\n",
              "      <th rowspan=\"5\" valign=\"top\">ANA FIERRO</th>\n",
              "      <th>COEL SA DE CV</th>\n",
              "      <td>-29743.45</td>\n",
              "    </tr>\n",
              "    <tr>\n",
              "      <th>DIAR ELECTRICA S A DE C V</th>\n",
              "      <td>-941107.19</td>\n",
              "    </tr>\n",
              "    <tr>\n",
              "      <th>DISTRIBUIDORA ELECTRICA DIAZ</th>\n",
              "      <td>-48608.80</td>\n",
              "    </tr>\n",
              "    <tr>\n",
              "      <th>DISTRIBUIDORA MAYECEN SA DE CV</th>\n",
              "      <td>-337881.00</td>\n",
              "    </tr>\n",
              "    <tr>\n",
              "      <th>ELECTRICA LUX SA DE CV</th>\n",
              "      <td>-59605.25</td>\n",
              "    </tr>\n",
              "    <tr>\n",
              "      <th>...</th>\n",
              "      <th>...</th>\n",
              "      <th>...</th>\n",
              "      <td>...</td>\n",
              "    </tr>\n",
              "    <tr>\n",
              "      <th rowspan=\"4\" valign=\"top\">Sin definir</th>\n",
              "      <th rowspan=\"4\" valign=\"top\">0</th>\n",
              "      <th>ARMANDO ORTIZ ENRIQUEZ</th>\n",
              "      <td>-7441.50</td>\n",
              "    </tr>\n",
              "    <tr>\n",
              "      <th>CTT EXP &amp; RENTALS</th>\n",
              "      <td>-729.17</td>\n",
              "    </tr>\n",
              "    <tr>\n",
              "      <th>MIELECTRIC INSTRUMENTOS SA DE CV</th>\n",
              "      <td>-33614.99</td>\n",
              "    </tr>\n",
              "    <tr>\n",
              "      <th>ORION RIOS HERNANDEZ</th>\n",
              "      <td>-6107.53</td>\n",
              "    </tr>\n",
              "    <tr>\n",
              "      <th>All</th>\n",
              "      <th></th>\n",
              "      <th></th>\n",
              "      <td>-43587882.25</td>\n",
              "    </tr>\n",
              "  </tbody>\n",
              "</table>\n",
              "<p>234 rows × 1 columns</p>\n",
              "</div>"
            ],
            "text/plain": [
              "                                                               In company code currency\n",
              "Gerente           Vendedor   Customer Name                                             \n",
              "JUAN CARLOS PRIOR ANA FIERRO COEL SA DE CV                                    -29743.45\n",
              "                             DIAR ELECTRICA S A DE C V                       -941107.19\n",
              "                             DISTRIBUIDORA ELECTRICA DIAZ                     -48608.80\n",
              "                             DISTRIBUIDORA MAYECEN SA DE CV                  -337881.00\n",
              "                             ELECTRICA LUX SA DE CV                           -59605.25\n",
              "...                                                                                 ...\n",
              "Sin definir       0          ARMANDO ORTIZ ENRIQUEZ                            -7441.50\n",
              "                             CTT EXP & RENTALS                                  -729.17\n",
              "                             MIELECTRIC INSTRUMENTOS SA DE CV                 -33614.99\n",
              "                             ORION RIOS HERNANDEZ                              -6107.53\n",
              "All                                                                        -43587882.25\n",
              "\n",
              "[234 rows x 1 columns]"
            ]
          },
          "execution_count": 26,
          "metadata": {},
          "output_type": "execute_result"
        }
      ],
      "source": [
        "import numpy as np\n",
        "table4 = pd.pivot_table(df_3f, values='In company code currency', index=[\"Gerente\",\"Vendedor\",\"Customer Name\"],aggfunc=np.sum,margins=True)\n",
        "table4"
      ]
    },
    {
      "cell_type": "markdown",
      "id": "fb66df4a",
      "metadata": {
        "id": "fb66df4a"
      },
      "source": [
        "## COST-PLATAFORMAS"
      ]
    },
    {
      "cell_type": "code",
      "execution_count": null,
      "id": "76245e95",
      "metadata": {
        "id": "76245e95"
      },
      "outputs": [],
      "source": [
        "df1c = pd.read_excel(\"Billings_General.xlsx\",sheet_name=\"Cost\")"
      ]
    },
    {
      "cell_type": "code",
      "execution_count": null,
      "id": "76d75a16",
      "metadata": {
        "id": "76d75a16"
      },
      "outputs": [],
      "source": [
        "df1c[\"Plataformas\"] = df1c[\"Plataformas\"].fillna(\"No Definido\")"
      ]
    },
    {
      "cell_type": "code",
      "execution_count": null,
      "id": "bb91a4b9",
      "metadata": {
        "id": "bb91a4b9"
      },
      "outputs": [],
      "source": [
        "# Period filter\n",
        "Posting_Period = [5]\n",
        "df_1fc = df1c[df1c[\"Posting Period\"].isin(Posting_Period)]"
      ]
    },
    {
      "cell_type": "code",
      "execution_count": null,
      "id": "f94da035",
      "metadata": {
        "id": "f94da035"
      },
      "outputs": [],
      "source": [
        "# Year filter\n",
        "Fiscal_Year = [2023]\n",
        "df_2fc = df_1fc[df_1fc[\"Fiscal Year\"].isin(Fiscal_Year)]"
      ]
    },
    {
      "cell_type": "code",
      "execution_count": null,
      "id": "1f02ece6",
      "metadata": {
        "id": "1f02ece6"
      },
      "outputs": [],
      "source": [
        "# Acc.Text filter\n",
        "#Cierre\n",
        "#\"COS - to be Returned\",\"Cost Of Goods Sold\",\"Standard Burden\",\"Standard Labor\",\"Standard Material\",\"\"\n",
        "Acc_Text = [\"COS - to be Returned\",\"Cost Of Goods Sold\",\"Standard Burden\",\"Standard Labor\",\"Standard Material\",\"\"]\n",
        "df_3fc = df_2fc[df_2fc[\"Acc.Text\"].isin(Acc_Text)]"
      ]
    },
    {
      "cell_type": "code",
      "execution_count": null,
      "id": "52b0d181",
      "metadata": {
        "scrolled": true,
        "id": "52b0d181",
        "outputId": "6a369578-e452-428e-9780-3fd4627c9145"
      },
      "outputs": [
        {
          "data": {
            "text/html": [
              "<div>\n",
              "<style scoped>\n",
              "    .dataframe tbody tr th:only-of-type {\n",
              "        vertical-align: middle;\n",
              "    }\n",
              "\n",
              "    .dataframe tbody tr th {\n",
              "        vertical-align: top;\n",
              "    }\n",
              "\n",
              "    .dataframe thead th {\n",
              "        text-align: right;\n",
              "    }\n",
              "</style>\n",
              "<table border=\"1\" class=\"dataframe\">\n",
              "  <thead>\n",
              "    <tr style=\"text-align: right;\">\n",
              "      <th></th>\n",
              "      <th>In company code currency</th>\n",
              "    </tr>\n",
              "    <tr>\n",
              "      <th>Plataformas</th>\n",
              "      <th></th>\n",
              "    </tr>\n",
              "  </thead>\n",
              "  <tbody>\n",
              "    <tr>\n",
              "      <th>BURNDY</th>\n",
              "      <td>9282611.27</td>\n",
              "    </tr>\n",
              "    <tr>\n",
              "      <th>HCE</th>\n",
              "      <td>809976.34</td>\n",
              "    </tr>\n",
              "    <tr>\n",
              "      <th>HCI</th>\n",
              "      <td>7080733.00</td>\n",
              "    </tr>\n",
              "    <tr>\n",
              "      <th>HPS</th>\n",
              "      <td>1607491.67</td>\n",
              "    </tr>\n",
              "    <tr>\n",
              "      <th>All</th>\n",
              "      <td>18780812.28</td>\n",
              "    </tr>\n",
              "  </tbody>\n",
              "</table>\n",
              "</div>"
            ],
            "text/plain": [
              "             In company code currency\n",
              "Plataformas                          \n",
              "BURNDY                     9282611.27\n",
              "HCE                         809976.34\n",
              "HCI                        7080733.00\n",
              "HPS                        1607491.67\n",
              "All                       18780812.28"
            ]
          },
          "execution_count": 32,
          "metadata": {},
          "output_type": "execute_result"
        }
      ],
      "source": [
        "import numpy as np\n",
        "table3 = pd.pivot_table(df_3fc, values='In company code currency', index=[\"Plataformas\"], aggfunc=np.sum,margins=True)\n",
        "table3"
      ]
    },
    {
      "cell_type": "markdown",
      "id": "577dc5e0",
      "metadata": {
        "id": "577dc5e0"
      },
      "source": [
        "## EXCEL FILE"
      ]
    },
    {
      "cell_type": "code",
      "execution_count": null,
      "id": "aaef29d4",
      "metadata": {
        "id": "aaef29d4",
        "outputId": "1672199b-51ea-40a6-f6d2-31f6a6340162"
      },
      "outputs": [
        {
          "name": "stderr",
          "output_type": "stream",
          "text": [
            "C:\\Users\\73184\\Anaconda3\\lib\\site-packages\\xlsxwriter\\workbook.py:339: UserWarning: Calling close() on already closed file.\n",
            "  warn(\"Calling close() on already closed file.\")\n"
          ]
        }
      ],
      "source": [
        "# Crear un nuevo archivo de Excel\n",
        "writer = pd.ExcelWriter('Margen_Resumen.xlsx', engine='xlsxwriter')\n",
        "\n",
        "# Copiar la hoja 1 de tabla1 en la hoja 1 del nuevo archivo\n",
        "table.to_excel(writer, sheet_name='Plataformas')\n",
        "\n",
        "# Copiar la hoja 1 de tabla2 en la hoja 2 del nuevo archivo\n",
        "table1.to_excel(writer, sheet_name='Plataforma-Marca')\n",
        "\n",
        "# Copiar la hoja 1 de tabla3 en la hoja 3 del nuevo archivo\n",
        "table2.to_excel(writer, sheet_name='Gerentes')\n",
        "\n",
        "# Copiar la hoja 1 de tabla4 en la hoja 4 del nuevo archivo\n",
        "table3.to_excel(writer, sheet_name='Plataforma-Cost')\n",
        "\n",
        "# Copiar la hoja 1 de tabla4 en la hoja 5 del nuevo archivo\n",
        "table4.to_excel(writer, sheet_name='Vendedores')\n",
        "\n",
        "# Guardar el nuevo archivo de Excel\n",
        "writer.save()\n",
        "# Cerrar el archivo\n",
        "writer.close()"
      ]
    },
    {
      "cell_type": "code",
      "execution_count": null,
      "id": "783c2bf2",
      "metadata": {
        "id": "783c2bf2"
      },
      "outputs": [],
      "source": []
    }
  ],
  "metadata": {
    "kernelspec": {
      "display_name": "Python 3 (ipykernel)",
      "language": "python",
      "name": "python3"
    },
    "language_info": {
      "codemirror_mode": {
        "name": "ipython",
        "version": 3
      },
      "file_extension": ".py",
      "mimetype": "text/x-python",
      "name": "python",
      "nbconvert_exporter": "python",
      "pygments_lexer": "ipython3",
      "version": "3.9.13"
    },
    "colab": {
      "provenance": []
    }
  },
  "nbformat": 4,
  "nbformat_minor": 5
}