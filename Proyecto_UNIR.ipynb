{
 "cells": [
  {
   "cell_type": "code",
   "execution_count": 1,
   "id": "e73dd21f",
   "metadata": {},
   "outputs": [],
   "source": [
    "import pandas as pd\n",
    "import numpy as np"
   ]
  },
  {
   "cell_type": "code",
   "execution_count": 6,
   "id": "7987ba7a",
   "metadata": {},
   "outputs": [],
   "source": [
    "df = pd.read_excel(\"Bookings_General_Feb.xlsx\",sheet_name=\"Sheet1\")"
   ]
  },
  {
   "cell_type": "code",
   "execution_count": 9,
   "id": "9e77626d",
   "metadata": {},
   "outputs": [
    {
     "data": {
      "text/plain": [
       "(43411, 53)"
      ]
     },
     "execution_count": 9,
     "metadata": {},
     "output_type": "execute_result"
    }
   ],
   "source": [
    "df.shape"
   ]
  },
  {
   "cell_type": "code",
   "execution_count": 10,
   "id": "721dd527",
   "metadata": {
    "scrolled": false
   },
   "outputs": [
    {
     "name": "stdout",
     "output_type": "stream",
     "text": [
      "<class 'pandas.core.frame.DataFrame'>\n",
      "RangeIndex: 43411 entries, 0 to 43410\n",
      "Data columns (total 53 columns):\n",
      " #   Column                     Non-Null Count  Dtype         \n",
      "---  ------                     --------------  -----         \n",
      " 0   Doc Created On             43411 non-null  datetime64[ns]\n",
      " 1   PO Date                    43408 non-null  datetime64[ns]\n",
      " 2   Sales Doc.                 43411 non-null  int64         \n",
      " 3   DoTy                       43411 non-null  object        \n",
      " 4   SDist                      43409 non-null  object        \n",
      " 5   SOff                       43408 non-null  object        \n",
      " 6   SGr                        43408 non-null  object        \n",
      " 7   Customer #                 43408 non-null  object        \n",
      " 8   Customer Name              43411 non-null  object        \n",
      " 9   DB                         702 non-null    object        \n",
      " 10  LineDB                     2 non-null      object        \n",
      " 11  CPSD Re-date Counter       43408 non-null  float64       \n",
      " 12  Material                   43408 non-null  object        \n",
      " 13  Description                43408 non-null  object        \n",
      " 14  Quantity                   43408 non-null  float64       \n",
      " 15  Net price                  43409 non-null  float64       \n",
      " 16  Ext value                  43408 non-null  float64       \n",
      " 17  Cost                       43409 non-null  float64       \n",
      " 18  Doc Curr.                  43409 non-null  object        \n",
      " 19  JSM                        43408 non-null  object        \n",
      " 20  Product hierarchy          43408 non-null  object        \n",
      " 21  Purchase order no.         43408 non-null  object        \n",
      " 22  Brand ID                   43408 non-null  object        \n",
      " 23  Dv                         43408 non-null  object        \n",
      " 24  Dv-Line                    43408 non-null  object        \n",
      " 25  Item #                     43408 non-null  float64       \n",
      " 26  Día                        43411 non-null  int64         \n",
      " 27  Mes                        43411 non-null  object        \n",
      " 28  Año                        43411 non-null  int64         \n",
      " 29  TC                         3064 non-null   float64       \n",
      " 30  Quantity OK                43408 non-null  float64       \n",
      " 31  Net price MXN              43408 non-null  float64       \n",
      " 32  Ext value MXN              43408 non-null  float64       \n",
      " 33  Ext value MXN OK           43411 non-null  float64       \n",
      " 34  Cost MXN                   43411 non-null  float64       \n",
      " 35  Cost MXN OK                43408 non-null  float64       \n",
      " 36  STD MARGIN                 43329 non-null  float64       \n",
      " 37  HPL                        43408 non-null  object        \n",
      " 38  NAME HPL                   43408 non-null  object        \n",
      " 39  Brand                      43411 non-null  object        \n",
      " 40  Plataforma                 43411 non-null  object        \n",
      " 41  Vendedor                   43411 non-null  object        \n",
      " 42  Canal / Oceano Azul        43411 non-null  object        \n",
      " 43  Coordinador                43408 non-null  object        \n",
      " 44  Gerente                    43408 non-null  object        \n",
      " 45  Zona                       43408 non-null  object        \n",
      " 46  EPE                        1667 non-null   object        \n",
      " 47  Description_Billing        0 non-null      float64       \n",
      " 48  Cost_Original_Billing      0 non-null      float64       \n",
      " 49  Currency_Original_Billing  0 non-null      float64       \n",
      " 50  Precio_original_billing    0 non-null      float64       \n",
      " 51  Precio_MXN_billing         0 non-null      float64       \n",
      " 52  Quantity OK_Billing        0 non-null      float64       \n",
      "dtypes: datetime64[ns](2), float64(20), int64(3), object(28)\n",
      "memory usage: 17.6+ MB\n"
     ]
    }
   ],
   "source": [
    "df.info()"
   ]
  },
  {
   "cell_type": "markdown",
   "id": "acd367f6",
   "metadata": {},
   "source": [
    "## Filtrado de variables"
   ]
  },
  {
   "cell_type": "code",
   "execution_count": 14,
   "id": "d25bdd2c",
   "metadata": {},
   "outputs": [],
   "source": [
    "# 11 variables de interés\n",
    "col = [\"Doc Created On\",\"Customer Name\",\"Ext value MXN OK\",\"Cost MXN OK\",\"STD MARGIN\",\"Plataforma\",\"Brand\",\n",
    "      \"Vendedor\",\"Canal / Oceano Azul\",\"Coordinador\",\"Gerente\"]\n",
    "df_1 = df[col] "
   ]
  },
  {
   "cell_type": "code",
   "execution_count": 25,
   "id": "98d474da",
   "metadata": {},
   "outputs": [
    {
     "data": {
      "text/plain": [
       "Doc Created On          0\n",
       "Customer Name           0\n",
       "Ext value MXN OK        0\n",
       "Cost MXN OK             3\n",
       "STD MARGIN             82\n",
       "Plataforma              0\n",
       "Brand                   0\n",
       "Vendedor                0\n",
       "Canal / Oceano Azul     0\n",
       "Coordinador             3\n",
       "Gerente                 3\n",
       "dtype: int64"
      ]
     },
     "execution_count": 25,
     "metadata": {},
     "output_type": "execute_result"
    }
   ],
   "source": [
    "# valores nulos\n",
    "# Encontrar valores nulos en el DataFrame\n",
    "valores_nulos = df_1.isnull().sum()\n",
    "valores_nulos"
   ]
  },
  {
   "cell_type": "code",
   "execution_count": 26,
   "id": "f35e84a2",
   "metadata": {},
   "outputs": [],
   "source": [
    "# borramos los valores nulos\n",
    "df_2 = df_1.dropna()"
   ]
  },
  {
   "cell_type": "code",
   "execution_count": 27,
   "id": "1a9da950",
   "metadata": {},
   "outputs": [
    {
     "data": {
      "text/plain": [
       "(43326, 11)"
      ]
     },
     "execution_count": 27,
     "metadata": {},
     "output_type": "execute_result"
    }
   ],
   "source": [
    "df_2.shape"
   ]
  },
  {
   "cell_type": "code",
   "execution_count": 91,
   "id": "f877db8c",
   "metadata": {
    "scrolled": false
   },
   "outputs": [
    {
     "name": "stderr",
     "output_type": "stream",
     "text": [
      "/var/folders/hp/_b5x72296s18tx4sk63bzzv40000gn/T/ipykernel_42855/2079497072.py:2: FutureWarning: Treating datetime data as categorical rather than numeric in `.describe` is deprecated and will be removed in a future version of pandas. Specify `datetime_is_numeric=True` to silence this warning and adopt the future behavior now.\n",
      "  df_2.describe(include= \"all\")\n"
     ]
    },
    {
     "data": {
      "text/html": [
       "<div>\n",
       "<style scoped>\n",
       "    .dataframe tbody tr th:only-of-type {\n",
       "        vertical-align: middle;\n",
       "    }\n",
       "\n",
       "    .dataframe tbody tr th {\n",
       "        vertical-align: top;\n",
       "    }\n",
       "\n",
       "    .dataframe thead th {\n",
       "        text-align: right;\n",
       "    }\n",
       "</style>\n",
       "<table border=\"1\" class=\"dataframe\">\n",
       "  <thead>\n",
       "    <tr style=\"text-align: right;\">\n",
       "      <th></th>\n",
       "      <th>Doc Created On</th>\n",
       "      <th>Customer Name</th>\n",
       "      <th>Ext value MXN OK</th>\n",
       "      <th>Cost MXN OK</th>\n",
       "      <th>STD MARGIN</th>\n",
       "      <th>Plataforma</th>\n",
       "      <th>Brand</th>\n",
       "      <th>Vendedor</th>\n",
       "      <th>Canal / Oceano Azul</th>\n",
       "      <th>Coordinador</th>\n",
       "      <th>Gerente</th>\n",
       "    </tr>\n",
       "  </thead>\n",
       "  <tbody>\n",
       "    <tr>\n",
       "      <th>count</th>\n",
       "      <td>43326</td>\n",
       "      <td>43326</td>\n",
       "      <td>43326.00</td>\n",
       "      <td>43326.00</td>\n",
       "      <td>43326.00</td>\n",
       "      <td>43326</td>\n",
       "      <td>43326</td>\n",
       "      <td>43326</td>\n",
       "      <td>43326</td>\n",
       "      <td>43326</td>\n",
       "      <td>43326</td>\n",
       "    </tr>\n",
       "    <tr>\n",
       "      <th>unique</th>\n",
       "      <td>144</td>\n",
       "      <td>288</td>\n",
       "      <td>NaN</td>\n",
       "      <td>NaN</td>\n",
       "      <td>NaN</td>\n",
       "      <td>4</td>\n",
       "      <td>18</td>\n",
       "      <td>30</td>\n",
       "      <td>3</td>\n",
       "      <td>6</td>\n",
       "      <td>4</td>\n",
       "    </tr>\n",
       "    <tr>\n",
       "      <th>top</th>\n",
       "      <td>2023-01-20 00:00:00</td>\n",
       "      <td>DISTRIBUIDORA TAMEX SA PI DE CV</td>\n",
       "      <td>NaN</td>\n",
       "      <td>NaN</td>\n",
       "      <td>NaN</td>\n",
       "      <td>BURNDY</td>\n",
       "      <td>BURNDY</td>\n",
       "      <td>GUALBERTO ORDONEZ</td>\n",
       "      <td>CANAL</td>\n",
       "      <td>CARLOS CONTRERAS</td>\n",
       "      <td>MONICA CUEVAS</td>\n",
       "    </tr>\n",
       "    <tr>\n",
       "      <th>freq</th>\n",
       "      <td>2026</td>\n",
       "      <td>2895</td>\n",
       "      <td>NaN</td>\n",
       "      <td>NaN</td>\n",
       "      <td>NaN</td>\n",
       "      <td>27961</td>\n",
       "      <td>27955</td>\n",
       "      <td>5602</td>\n",
       "      <td>41377</td>\n",
       "      <td>21795</td>\n",
       "      <td>21985</td>\n",
       "    </tr>\n",
       "    <tr>\n",
       "      <th>first</th>\n",
       "      <td>2023-01-02 00:00:00</td>\n",
       "      <td>NaN</td>\n",
       "      <td>NaN</td>\n",
       "      <td>NaN</td>\n",
       "      <td>NaN</td>\n",
       "      <td>NaN</td>\n",
       "      <td>NaN</td>\n",
       "      <td>NaN</td>\n",
       "      <td>NaN</td>\n",
       "      <td>NaN</td>\n",
       "      <td>NaN</td>\n",
       "    </tr>\n",
       "    <tr>\n",
       "      <th>last</th>\n",
       "      <td>2023-06-14 00:00:00</td>\n",
       "      <td>NaN</td>\n",
       "      <td>NaN</td>\n",
       "      <td>NaN</td>\n",
       "      <td>NaN</td>\n",
       "      <td>NaN</td>\n",
       "      <td>NaN</td>\n",
       "      <td>NaN</td>\n",
       "      <td>NaN</td>\n",
       "      <td>NaN</td>\n",
       "      <td>NaN</td>\n",
       "    </tr>\n",
       "    <tr>\n",
       "      <th>mean</th>\n",
       "      <td>NaN</td>\n",
       "      <td>NaN</td>\n",
       "      <td>9505.44</td>\n",
       "      <td>4150.59</td>\n",
       "      <td>0.61</td>\n",
       "      <td>NaN</td>\n",
       "      <td>NaN</td>\n",
       "      <td>NaN</td>\n",
       "      <td>NaN</td>\n",
       "      <td>NaN</td>\n",
       "      <td>NaN</td>\n",
       "    </tr>\n",
       "    <tr>\n",
       "      <th>std</th>\n",
       "      <td>NaN</td>\n",
       "      <td>NaN</td>\n",
       "      <td>52570.63</td>\n",
       "      <td>28647.03</td>\n",
       "      <td>0.18</td>\n",
       "      <td>NaN</td>\n",
       "      <td>NaN</td>\n",
       "      <td>NaN</td>\n",
       "      <td>NaN</td>\n",
       "      <td>NaN</td>\n",
       "      <td>NaN</td>\n",
       "    </tr>\n",
       "    <tr>\n",
       "      <th>min</th>\n",
       "      <td>NaN</td>\n",
       "      <td>NaN</td>\n",
       "      <td>-1716905.78</td>\n",
       "      <td>-468507.47</td>\n",
       "      <td>-11.34</td>\n",
       "      <td>NaN</td>\n",
       "      <td>NaN</td>\n",
       "      <td>NaN</td>\n",
       "      <td>NaN</td>\n",
       "      <td>NaN</td>\n",
       "      <td>NaN</td>\n",
       "    </tr>\n",
       "    <tr>\n",
       "      <th>25%</th>\n",
       "      <td>NaN</td>\n",
       "      <td>NaN</td>\n",
       "      <td>1175.50</td>\n",
       "      <td>401.02</td>\n",
       "      <td>0.54</td>\n",
       "      <td>NaN</td>\n",
       "      <td>NaN</td>\n",
       "      <td>NaN</td>\n",
       "      <td>NaN</td>\n",
       "      <td>NaN</td>\n",
       "      <td>NaN</td>\n",
       "    </tr>\n",
       "    <tr>\n",
       "      <th>50%</th>\n",
       "      <td>NaN</td>\n",
       "      <td>NaN</td>\n",
       "      <td>2743.50</td>\n",
       "      <td>1002.13</td>\n",
       "      <td>0.64</td>\n",
       "      <td>NaN</td>\n",
       "      <td>NaN</td>\n",
       "      <td>NaN</td>\n",
       "      <td>NaN</td>\n",
       "      <td>NaN</td>\n",
       "      <td>NaN</td>\n",
       "    </tr>\n",
       "    <tr>\n",
       "      <th>75%</th>\n",
       "      <td>NaN</td>\n",
       "      <td>NaN</td>\n",
       "      <td>6931.20</td>\n",
       "      <td>2659.06</td>\n",
       "      <td>0.71</td>\n",
       "      <td>NaN</td>\n",
       "      <td>NaN</td>\n",
       "      <td>NaN</td>\n",
       "      <td>NaN</td>\n",
       "      <td>NaN</td>\n",
       "      <td>NaN</td>\n",
       "    </tr>\n",
       "    <tr>\n",
       "      <th>max</th>\n",
       "      <td>NaN</td>\n",
       "      <td>NaN</td>\n",
       "      <td>4280267.42</td>\n",
       "      <td>1736103.54</td>\n",
       "      <td>0.99</td>\n",
       "      <td>NaN</td>\n",
       "      <td>NaN</td>\n",
       "      <td>NaN</td>\n",
       "      <td>NaN</td>\n",
       "      <td>NaN</td>\n",
       "      <td>NaN</td>\n",
       "    </tr>\n",
       "  </tbody>\n",
       "</table>\n",
       "</div>"
      ],
      "text/plain": [
       "             Doc Created On                    Customer Name  \\\n",
       "count                 43326                            43326   \n",
       "unique                  144                              288   \n",
       "top     2023-01-20 00:00:00  DISTRIBUIDORA TAMEX SA PI DE CV   \n",
       "freq                   2026                             2895   \n",
       "first   2023-01-02 00:00:00                              NaN   \n",
       "last    2023-06-14 00:00:00                              NaN   \n",
       "mean                    NaN                              NaN   \n",
       "std                     NaN                              NaN   \n",
       "min                     NaN                              NaN   \n",
       "25%                     NaN                              NaN   \n",
       "50%                     NaN                              NaN   \n",
       "75%                     NaN                              NaN   \n",
       "max                     NaN                              NaN   \n",
       "\n",
       "        Ext value MXN OK  Cost MXN OK  STD MARGIN Plataforma   Brand  \\\n",
       "count           43326.00     43326.00    43326.00      43326   43326   \n",
       "unique               NaN          NaN         NaN          4      18   \n",
       "top                  NaN          NaN         NaN     BURNDY  BURNDY   \n",
       "freq                 NaN          NaN         NaN      27961   27955   \n",
       "first                NaN          NaN         NaN        NaN     NaN   \n",
       "last                 NaN          NaN         NaN        NaN     NaN   \n",
       "mean             9505.44      4150.59        0.61        NaN     NaN   \n",
       "std             52570.63     28647.03        0.18        NaN     NaN   \n",
       "min          -1716905.78   -468507.47      -11.34        NaN     NaN   \n",
       "25%              1175.50       401.02        0.54        NaN     NaN   \n",
       "50%              2743.50      1002.13        0.64        NaN     NaN   \n",
       "75%              6931.20      2659.06        0.71        NaN     NaN   \n",
       "max           4280267.42   1736103.54        0.99        NaN     NaN   \n",
       "\n",
       "                 Vendedor Canal / Oceano Azul       Coordinador        Gerente  \n",
       "count               43326               43326             43326          43326  \n",
       "unique                 30                   3                 6              4  \n",
       "top     GUALBERTO ORDONEZ               CANAL  CARLOS CONTRERAS  MONICA CUEVAS  \n",
       "freq                 5602               41377             21795          21985  \n",
       "first                 NaN                 NaN               NaN            NaN  \n",
       "last                  NaN                 NaN               NaN            NaN  \n",
       "mean                  NaN                 NaN               NaN            NaN  \n",
       "std                   NaN                 NaN               NaN            NaN  \n",
       "min                   NaN                 NaN               NaN            NaN  \n",
       "25%                   NaN                 NaN               NaN            NaN  \n",
       "50%                   NaN                 NaN               NaN            NaN  \n",
       "75%                   NaN                 NaN               NaN            NaN  \n",
       "max                   NaN                 NaN               NaN            NaN  "
      ]
     },
     "execution_count": 91,
     "metadata": {},
     "output_type": "execute_result"
    }
   ],
   "source": [
    "pd.set_option('display.float_format', '{:.2f}'.format)\n",
    "df_2.describe(include= \"all\")"
   ]
  },
  {
   "cell_type": "code",
   "execution_count": 107,
   "id": "e38e130e",
   "metadata": {
    "scrolled": false
   },
   "outputs": [
    {
     "data": {
      "text/plain": [
       "count    288.00\n",
       "mean     150.44\n",
       "std      344.68\n",
       "min        1.00\n",
       "25%        6.00\n",
       "50%       32.00\n",
       "75%      134.25\n",
       "max     2895.00\n",
       "Name: Customer Name, dtype: float64"
      ]
     },
     "execution_count": 107,
     "metadata": {},
     "output_type": "execute_result"
    }
   ],
   "source": [
    "df_2[\"Customer Name\"].value_counts().describe()"
   ]
  },
  {
   "cell_type": "code",
   "execution_count": 90,
   "id": "e561a995",
   "metadata": {},
   "outputs": [
    {
     "data": {
      "text/html": [
       "<div>\n",
       "<style scoped>\n",
       "    .dataframe tbody tr th:only-of-type {\n",
       "        vertical-align: middle;\n",
       "    }\n",
       "\n",
       "    .dataframe tbody tr th {\n",
       "        vertical-align: top;\n",
       "    }\n",
       "\n",
       "    .dataframe thead th {\n",
       "        text-align: right;\n",
       "    }\n",
       "</style>\n",
       "<table border=\"1\" class=\"dataframe\">\n",
       "  <thead>\n",
       "    <tr style=\"text-align: right;\">\n",
       "      <th></th>\n",
       "      <th>Ext value MXN OK</th>\n",
       "      <th>Cost MXN OK</th>\n",
       "      <th>STD MARGIN</th>\n",
       "    </tr>\n",
       "  </thead>\n",
       "  <tbody>\n",
       "    <tr>\n",
       "      <th>count</th>\n",
       "      <td>43326.00</td>\n",
       "      <td>43326.00</td>\n",
       "      <td>43326.00</td>\n",
       "    </tr>\n",
       "    <tr>\n",
       "      <th>mean</th>\n",
       "      <td>9505.44</td>\n",
       "      <td>4150.59</td>\n",
       "      <td>0.61</td>\n",
       "    </tr>\n",
       "    <tr>\n",
       "      <th>std</th>\n",
       "      <td>52570.63</td>\n",
       "      <td>28647.03</td>\n",
       "      <td>0.18</td>\n",
       "    </tr>\n",
       "    <tr>\n",
       "      <th>min</th>\n",
       "      <td>-1716905.78</td>\n",
       "      <td>-468507.47</td>\n",
       "      <td>-11.34</td>\n",
       "    </tr>\n",
       "    <tr>\n",
       "      <th>25%</th>\n",
       "      <td>1175.50</td>\n",
       "      <td>401.02</td>\n",
       "      <td>0.54</td>\n",
       "    </tr>\n",
       "    <tr>\n",
       "      <th>50%</th>\n",
       "      <td>2743.50</td>\n",
       "      <td>1002.13</td>\n",
       "      <td>0.64</td>\n",
       "    </tr>\n",
       "    <tr>\n",
       "      <th>75%</th>\n",
       "      <td>6931.20</td>\n",
       "      <td>2659.06</td>\n",
       "      <td>0.71</td>\n",
       "    </tr>\n",
       "    <tr>\n",
       "      <th>max</th>\n",
       "      <td>4280267.42</td>\n",
       "      <td>1736103.54</td>\n",
       "      <td>0.99</td>\n",
       "    </tr>\n",
       "  </tbody>\n",
       "</table>\n",
       "</div>"
      ],
      "text/plain": [
       "       Ext value MXN OK  Cost MXN OK  STD MARGIN\n",
       "count          43326.00     43326.00    43326.00\n",
       "mean            9505.44      4150.59        0.61\n",
       "std            52570.63     28647.03        0.18\n",
       "min         -1716905.78   -468507.47      -11.34\n",
       "25%             1175.50       401.02        0.54\n",
       "50%             2743.50      1002.13        0.64\n",
       "75%             6931.20      2659.06        0.71\n",
       "max          4280267.42   1736103.54        0.99"
      ]
     },
     "execution_count": 90,
     "metadata": {},
     "output_type": "execute_result"
    }
   ],
   "source": [
    "pd.set_option('display.float_format', '{:.2f}'.format)\n",
    "df_2.describe()"
   ]
  },
  {
   "cell_type": "code",
   "execution_count": 123,
   "id": "52836f97",
   "metadata": {},
   "outputs": [
    {
     "data": {
      "image/png": "[encoded data removed]",
      "text/plain": [
       "<Figure size 432x288 with 1 Axes>"
      ]
     },
     "metadata": {
      "needs_background": "light"
     },
     "output_type": "display_data"
    }
   ],
   "source": [
    "# Crear el histograma\n",
    "plt.hist(df_2[\"Ext value MXN OK\"].describe(), bins=5, edgecolor='black')\n",
    "\n",
    "# Personalizar el gráfico\n",
    "plt.title('Histograma')\n",
    "plt.xlabel('Venta')\n",
    "plt.ylabel('Frecuencia')\n",
    "\n",
    "# Mostrar el gráfico\n",
    "plt.show()"
   ]
  },
  {
   "cell_type": "code",
   "execution_count": 127,
   "id": "46e929c1",
   "metadata": {},
   "outputs": [
    {
     "data": {
      "image/png": "[encoded data removed]",
      "text/plain": [
       "<Figure size 432x288 with 1 Axes>"
      ]
     },
     "metadata": {
      "needs_background": "light"
     },
     "output_type": "display_data"
    }
   ],
   "source": [
    "# Crear el histograma\n",
    "plt.hist(df_2[\"Cost MXN OK\"].describe(), bins=5, edgecolor='black')\n",
    "\n",
    "# Personalizar el gráfico\n",
    "plt.title('Histograma')\n",
    "plt.xlabel('Costo')\n",
    "plt.ylabel('Frecuencia')\n",
    "\n",
    "# Mostrar el gráfico\n",
    "plt.show()"
   ]
  },
  {
   "cell_type": "code",
   "execution_count": 133,
   "id": "1313e32d",
   "metadata": {},
   "outputs": [
    {
     "data": {
      "image/png": "[encoded data removed]",
      "text/plain": [
       "<Figure size 432x288 with 1 Axes>"
      ]
     },
     "metadata": {
      "needs_background": "light"
     },
     "output_type": "display_data"
    }
   ],
   "source": [
    "# Crear el histograma\n",
    "plt.hist(df_2[\"STD MARGIN\"], bins=50, edgecolor='black')\n",
    "\n",
    "# Personalizar el gráfico\n",
    "plt.title('Histograma')\n",
    "plt.xlabel('Standard Margin')\n",
    "plt.ylabel('Frecuencia')\n",
    "\n",
    "# Mostrar el gráfico\n",
    "plt.show()"
   ]
  },
  {
   "cell_type": "code",
   "execution_count": 136,
   "id": "bc372aa5",
   "metadata": {},
   "outputs": [
    {
     "data": {
      "text/plain": [
       "count       4.00\n",
       "mean    10831.50\n",
       "std     12957.67\n",
       "min       565.00\n",
       "25%       908.50\n",
       "50%      7400.00\n",
       "75%     17323.00\n",
       "max     27961.00\n",
       "Name: Plataforma, dtype: float64"
      ]
     },
     "execution_count": 136,
     "metadata": {},
     "output_type": "execute_result"
    }
   ],
   "source": [
    "df_2[\"Plataforma\"].value_counts().describe()"
   ]
  },
  {
   "cell_type": "code",
   "execution_count": 137,
   "id": "dcf69665",
   "metadata": {},
   "outputs": [
    {
     "data": {
      "text/plain": [
       "count      18.00\n",
       "mean     2407.00\n",
       "std      6654.06\n",
       "min         2.00\n",
       "25%         6.00\n",
       "50%       110.00\n",
       "75%       794.50\n",
       "max     27955.00\n",
       "Name: Brand, dtype: float64"
      ]
     },
     "execution_count": 137,
     "metadata": {},
     "output_type": "execute_result"
    }
   ],
   "source": [
    "df_2[\"Brand\"].value_counts().describe()"
   ]
  },
  {
   "cell_type": "code",
   "execution_count": 138,
   "id": "2c2ec70c",
   "metadata": {},
   "outputs": [
    {
     "data": {
      "text/plain": [
       "count     30.00\n",
       "mean    1444.20\n",
       "std     1412.81\n",
       "min        1.00\n",
       "25%       83.75\n",
       "50%     1154.00\n",
       "75%     2197.00\n",
       "max     5602.00\n",
       "Name: Vendedor, dtype: float64"
      ]
     },
     "execution_count": 138,
     "metadata": {},
     "output_type": "execute_result"
    }
   ],
   "source": [
    "df_2[\"Vendedor\"].value_counts().describe()"
   ]
  },
  {
   "cell_type": "code",
   "execution_count": 139,
   "id": "74af4f25",
   "metadata": {},
   "outputs": [
    {
     "data": {
      "text/plain": [
       "count       3.00\n",
       "mean    14442.00\n",
       "std     23343.31\n",
       "min        86.00\n",
       "25%       974.50\n",
       "50%      1863.00\n",
       "75%     21620.00\n",
       "max     41377.00\n",
       "Name: Canal / Oceano Azul, dtype: float64"
      ]
     },
     "execution_count": 139,
     "metadata": {},
     "output_type": "execute_result"
    }
   ],
   "source": [
    "df_2[\"Canal / Oceano Azul\"].value_counts().describe()"
   ]
  },
  {
   "cell_type": "code",
   "execution_count": 140,
   "id": "514f2944",
   "metadata": {},
   "outputs": [
    {
     "data": {
      "text/plain": [
       "count       6.00\n",
       "mean     7221.00\n",
       "std     10278.02\n",
       "min         1.00\n",
       "25%       112.00\n",
       "50%      1223.50\n",
       "75%     14812.00\n",
       "max     21795.00\n",
       "Name: Coordinador, dtype: float64"
      ]
     },
     "execution_count": 140,
     "metadata": {},
     "output_type": "execute_result"
    }
   ],
   "source": [
    "df_2[\"Coordinador\"].value_counts().describe()"
   ]
  },
  {
   "cell_type": "code",
   "execution_count": 141,
   "id": "112e069c",
   "metadata": {},
   "outputs": [
    {
     "data": {
      "text/plain": [
       "count       4.00\n",
       "mean    10831.50\n",
       "std     12460.53\n",
       "min         1.00\n",
       "25%        64.75\n",
       "50%     10670.00\n",
       "75%     21436.75\n",
       "max     21985.00\n",
       "Name: Gerente, dtype: float64"
      ]
     },
     "execution_count": 141,
     "metadata": {},
     "output_type": "execute_result"
    }
   ],
   "source": [
    "df_2[\"Gerente\"].value_counts().describe()"
   ]
  },
  {
   "cell_type": "markdown",
   "id": "97344438",
   "metadata": {},
   "source": [
    "## Gráficos y Tablas"
   ]
  },
  {
   "cell_type": "code",
   "execution_count": 176,
   "id": "0c414391",
   "metadata": {},
   "outputs": [
    {
     "data": {
      "text/html": [
       "<div>\n",
       "<style scoped>\n",
       "    .dataframe tbody tr th:only-of-type {\n",
       "        vertical-align: middle;\n",
       "    }\n",
       "\n",
       "    .dataframe tbody tr th {\n",
       "        vertical-align: top;\n",
       "    }\n",
       "\n",
       "    .dataframe thead th {\n",
       "        text-align: right;\n",
       "    }\n",
       "</style>\n",
       "<table border=\"1\" class=\"dataframe\">\n",
       "  <thead>\n",
       "    <tr style=\"text-align: right;\">\n",
       "      <th></th>\n",
       "      <th>Ext value MXN OK</th>\n",
       "    </tr>\n",
       "    <tr>\n",
       "      <th>Customer Name</th>\n",
       "      <th></th>\n",
       "    </tr>\n",
       "  </thead>\n",
       "  <tbody>\n",
       "    <tr>\n",
       "      <th>DISTRIBUIDORA TAMEX SA PI DE CV</th>\n",
       "      <td>21080071.91</td>\n",
       "    </tr>\n",
       "    <tr>\n",
       "      <th>GRUPO ALCIONE SA DE CV</th>\n",
       "      <td>20624105.37</td>\n",
       "    </tr>\n",
       "    <tr>\n",
       "      <th>WESCO DISTRIBUTION DE MEXICO</th>\n",
       "      <td>19077993.21</td>\n",
       "    </tr>\n",
       "    <tr>\n",
       "      <th>ELECTRO ABASTOS MONTERREY SA DE CV</th>\n",
       "      <td>14246941.58</td>\n",
       "    </tr>\n",
       "    <tr>\n",
       "      <th>POWERTRUSION DE MEXICO</th>\n",
       "      <td>10790611.40</td>\n",
       "    </tr>\n",
       "    <tr>\n",
       "      <th>COEL SA DE CV</th>\n",
       "      <td>10550424.00</td>\n",
       "    </tr>\n",
       "    <tr>\n",
       "      <th>TEMESA ELECTRIFICACIONES SA DE CV</th>\n",
       "      <td>8808270.43</td>\n",
       "    </tr>\n",
       "    <tr>\n",
       "      <th>EUROELECTRICA SA DE CV</th>\n",
       "      <td>8806061.76</td>\n",
       "    </tr>\n",
       "    <tr>\n",
       "      <th>DISTRIBUIDORA DE MATERIALES ELECTRI</th>\n",
       "      <td>8414611.22</td>\n",
       "    </tr>\n",
       "    <tr>\n",
       "      <th>ELEKTRON DEL BAJIO SA DE CV</th>\n",
       "      <td>8100921.14</td>\n",
       "    </tr>\n",
       "  </tbody>\n",
       "</table>\n",
       "</div>"
      ],
      "text/plain": [
       "                                     Ext value MXN OK\n",
       "Customer Name                                        \n",
       "DISTRIBUIDORA TAMEX SA PI DE CV           21080071.91\n",
       "GRUPO ALCIONE SA DE CV                    20624105.37\n",
       "WESCO DISTRIBUTION DE MEXICO              19077993.21\n",
       "ELECTRO ABASTOS MONTERREY SA DE CV        14246941.58\n",
       "POWERTRUSION DE MEXICO                    10790611.40\n",
       "COEL SA DE CV                             10550424.00\n",
       "TEMESA ELECTRIFICACIONES SA DE CV          8808270.43\n",
       "EUROELECTRICA SA DE CV                     8806061.76\n",
       "DISTRIBUIDORA DE MATERIALES ELECTRI        8414611.22\n",
       "ELEKTRON DEL BAJIO SA DE CV                8100921.14"
      ]
     },
     "execution_count": 176,
     "metadata": {},
     "output_type": "execute_result"
    }
   ],
   "source": [
    "import numpy as np\n",
    "pd.set_option('display.float_format', '{:.2f}'.format)\n",
    "table = df_2.pivot_table(values=\"Ext value MXN OK\", index=\"Customer Name\", aggfunc=np.sum)\n",
    "table.sort_values(by=\"Ext value MXN OK\",ascending=False).head(10)#.plot(kind=\"bar\")"
   ]
  },
  {
   "cell_type": "code",
   "execution_count": 163,
   "id": "dffb3d84",
   "metadata": {},
   "outputs": [
    {
     "data": {
      "text/plain": [
       "<AxesSubplot:xlabel='Customer Name'>"
      ]
     },
     "execution_count": 163,
     "metadata": {},
     "output_type": "execute_result"
    },
    {
     "data": {
      "image/png": "[encoded data removed]",
      "text/plain": [
       "<Figure size 432x288 with 1 Axes>"
      ]
     },
     "metadata": {
      "needs_background": "light"
     },
     "output_type": "display_data"
    }
   ],
   "source": [
    "table.plot(kind=\"bar\",xticks = [])"
   ]
  },
  {
   "cell_type": "code",
   "execution_count": 181,
   "id": "8fcfbc29",
   "metadata": {},
   "outputs": [
    {
     "data": {
      "text/html": [
       "<div>\n",
       "<style scoped>\n",
       "    .dataframe tbody tr th:only-of-type {\n",
       "        vertical-align: middle;\n",
       "    }\n",
       "\n",
       "    .dataframe tbody tr th {\n",
       "        vertical-align: top;\n",
       "    }\n",
       "\n",
       "    .dataframe thead th {\n",
       "        text-align: right;\n",
       "    }\n",
       "</style>\n",
       "<table border=\"1\" class=\"dataframe\">\n",
       "  <thead>\n",
       "    <tr style=\"text-align: right;\">\n",
       "      <th></th>\n",
       "      <th>Ext value MXN OK</th>\n",
       "    </tr>\n",
       "    <tr>\n",
       "      <th>Plataforma</th>\n",
       "      <th></th>\n",
       "    </tr>\n",
       "  </thead>\n",
       "  <tbody>\n",
       "    <tr>\n",
       "      <th>BURNDY</th>\n",
       "      <td>198067305.19</td>\n",
       "    </tr>\n",
       "    <tr>\n",
       "      <th>HCI</th>\n",
       "      <td>143481925.48</td>\n",
       "    </tr>\n",
       "    <tr>\n",
       "      <th>HPS</th>\n",
       "      <td>47605026.38</td>\n",
       "    </tr>\n",
       "    <tr>\n",
       "      <th>HCE</th>\n",
       "      <td>22678510.84</td>\n",
       "    </tr>\n",
       "  </tbody>\n",
       "</table>\n",
       "</div>"
      ],
      "text/plain": [
       "            Ext value MXN OK\n",
       "Plataforma                  \n",
       "BURNDY          198067305.19\n",
       "HCI             143481925.48\n",
       "HPS              47605026.38\n",
       "HCE              22678510.84"
      ]
     },
     "execution_count": 181,
     "metadata": {},
     "output_type": "execute_result"
    }
   ],
   "source": [
    "import numpy as np\n",
    "pd.set_option('display.float_format', '{:.2f}'.format)\n",
    "table1 = df_2.pivot_table(values=\"Ext value MXN OK\", index=\"Plataforma\", aggfunc=np.sum)\n",
    "table1.sort_values(by=\"Ext value MXN OK\",ascending=False)"
   ]
  },
  {
   "cell_type": "code",
   "execution_count": 166,
   "id": "d80caef2",
   "metadata": {},
   "outputs": [
    {
     "data": {
      "text/plain": [
       "<AxesSubplot:xlabel='Plataforma'>"
      ]
     },
     "execution_count": 166,
     "metadata": {},
     "output_type": "execute_result"
    },
    {
     "data": {
      "image/png": "[encoded data removed]",
      "text/plain": [
       "<Figure size 432x288 with 1 Axes>"
      ]
     },
     "metadata": {
      "needs_background": "light"
     },
     "output_type": "display_data"
    }
   ],
   "source": [
    "pd.set_option('display.float_format', '{:.2f}'.format)\n",
    "table1.plot(kind=\"bar\")"
   ]
  },
  {
   "cell_type": "code",
   "execution_count": 191,
   "id": "49ed69e2",
   "metadata": {
    "scrolled": true
   },
   "outputs": [
    {
     "data": {
      "text/html": [
       "<div>\n",
       "<style scoped>\n",
       "    .dataframe tbody tr th:only-of-type {\n",
       "        vertical-align: middle;\n",
       "    }\n",
       "\n",
       "    .dataframe tbody tr th {\n",
       "        vertical-align: top;\n",
       "    }\n",
       "\n",
       "    .dataframe thead th {\n",
       "        text-align: right;\n",
       "    }\n",
       "</style>\n",
       "<table border=\"1\" class=\"dataframe\">\n",
       "  <thead>\n",
       "    <tr style=\"text-align: right;\">\n",
       "      <th></th>\n",
       "      <th>Ext value MXN OK</th>\n",
       "    </tr>\n",
       "    <tr>\n",
       "      <th>Brand</th>\n",
       "      <th></th>\n",
       "    </tr>\n",
       "  </thead>\n",
       "  <tbody>\n",
       "    <tr>\n",
       "      <th>BURNDY</th>\n",
       "      <td>197826624.49</td>\n",
       "    </tr>\n",
       "    <tr>\n",
       "      <th>RACO</th>\n",
       "      <td>58746889.86</td>\n",
       "    </tr>\n",
       "    <tr>\n",
       "      <th>WDK</th>\n",
       "      <td>56657666.78</td>\n",
       "    </tr>\n",
       "    <tr>\n",
       "      <th>Ohio Brass</th>\n",
       "      <td>22882659.93</td>\n",
       "    </tr>\n",
       "    <tr>\n",
       "      <th>Killark</th>\n",
       "      <td>21894607.47</td>\n",
       "    </tr>\n",
       "    <tr>\n",
       "      <th>Bryant</th>\n",
       "      <td>13765247.46</td>\n",
       "    </tr>\n",
       "    <tr>\n",
       "      <th>Chance</th>\n",
       "      <td>12651407.39</td>\n",
       "    </tr>\n",
       "    <tr>\n",
       "      <th>Premise</th>\n",
       "      <td>11261860.02</td>\n",
       "    </tr>\n",
       "    <tr>\n",
       "      <th>Connectors</th>\n",
       "      <td>9016768.34</td>\n",
       "    </tr>\n",
       "    <tr>\n",
       "      <th>ACME</th>\n",
       "      <td>2450533.28</td>\n",
       "    </tr>\n",
       "  </tbody>\n",
       "</table>\n",
       "</div>"
      ],
      "text/plain": [
       "            Ext value MXN OK\n",
       "Brand                       \n",
       "BURNDY          197826624.49\n",
       "RACO             58746889.86\n",
       "WDK              56657666.78\n",
       "Ohio Brass       22882659.93\n",
       "Killark          21894607.47\n",
       "Bryant           13765247.46\n",
       "Chance           12651407.39\n",
       "Premise          11261860.02\n",
       "Connectors        9016768.34\n",
       "ACME              2450533.28"
      ]
     },
     "execution_count": 191,
     "metadata": {},
     "output_type": "execute_result"
    }
   ],
   "source": [
    "import numpy as np\n",
    "pd.set_option('display.float_format', '{:.2f}'.format)\n",
    "table2 = df_2.pivot_table(values=\"Ext value MXN OK\", index=\"Brand\", aggfunc=np.sum)\n",
    "table2.sort_values(by=\"Ext value MXN OK\",ascending=False).head(10)"
   ]
  },
  {
   "cell_type": "code",
   "execution_count": 179,
   "id": "297deaa7",
   "metadata": {},
   "outputs": [
    {
     "data": {
      "text/plain": [
       "<AxesSubplot:xlabel='Brand'>"
      ]
     },
     "execution_count": 179,
     "metadata": {},
     "output_type": "execute_result"
    },
    {
     "data": {
      "image/png": "[encoded data removed]",
      "text/plain": [
       "<Figure size 432x288 with 1 Axes>"
      ]
     },
     "metadata": {
      "needs_background": "light"
     },
     "output_type": "display_data"
    }
   ],
   "source": [
    "table2.plot(kind=\"bar\")"
   ]
  },
  {
   "cell_type": "code",
   "execution_count": 186,
   "id": "f62cd7d5",
   "metadata": {},
   "outputs": [
    {
     "data": {
      "text/html": [
       "<div>\n",
       "<style scoped>\n",
       "    .dataframe tbody tr th:only-of-type {\n",
       "        vertical-align: middle;\n",
       "    }\n",
       "\n",
       "    .dataframe tbody tr th {\n",
       "        vertical-align: top;\n",
       "    }\n",
       "\n",
       "    .dataframe thead th {\n",
       "        text-align: right;\n",
       "    }\n",
       "</style>\n",
       "<table border=\"1\" class=\"dataframe\">\n",
       "  <thead>\n",
       "    <tr style=\"text-align: right;\">\n",
       "      <th></th>\n",
       "      <th>Ext value MXN OK</th>\n",
       "    </tr>\n",
       "    <tr>\n",
       "      <th>Vendedor</th>\n",
       "      <th></th>\n",
       "    </tr>\n",
       "  </thead>\n",
       "  <tbody>\n",
       "    <tr>\n",
       "      <th>GUALBERTO ORDONEZ</th>\n",
       "      <td>44693333.34</td>\n",
       "    </tr>\n",
       "    <tr>\n",
       "      <th>ALEJANDRO CORTES</th>\n",
       "      <td>38099190.73</td>\n",
       "    </tr>\n",
       "    <tr>\n",
       "      <th>JOSE VILLASANA</th>\n",
       "      <td>34330641.17</td>\n",
       "    </tr>\n",
       "    <tr>\n",
       "      <th>REP. ELECTRICAS GARGO SA CV</th>\n",
       "      <td>29269718.36</td>\n",
       "    </tr>\n",
       "    <tr>\n",
       "      <th>EDUARDO MARTINEZ</th>\n",
       "      <td>29187115.59</td>\n",
       "    </tr>\n",
       "    <tr>\n",
       "      <th>JUAN MANUEL SANCHEZ MORALES</th>\n",
       "      <td>28601682.91</td>\n",
       "    </tr>\n",
       "    <tr>\n",
       "      <th>MARIANO REYNEL</th>\n",
       "      <td>21380191.52</td>\n",
       "    </tr>\n",
       "    <tr>\n",
       "      <th>MIGUEL TERRAZAS</th>\n",
       "      <td>18608488.60</td>\n",
       "    </tr>\n",
       "    <tr>\n",
       "      <th>JOSE ENRIQUE ARANZUBIA</th>\n",
       "      <td>16771335.30</td>\n",
       "    </tr>\n",
       "    <tr>\n",
       "      <th>ERWIN PEREZ</th>\n",
       "      <td>15578732.63</td>\n",
       "    </tr>\n",
       "  </tbody>\n",
       "</table>\n",
       "</div>"
      ],
      "text/plain": [
       "                             Ext value MXN OK\n",
       "Vendedor                                     \n",
       "GUALBERTO ORDONEZ                 44693333.34\n",
       "ALEJANDRO CORTES                  38099190.73\n",
       "JOSE VILLASANA                    34330641.17\n",
       "REP. ELECTRICAS GARGO SA CV       29269718.36\n",
       "EDUARDO MARTINEZ                  29187115.59\n",
       "JUAN MANUEL SANCHEZ MORALES       28601682.91\n",
       "MARIANO REYNEL                    21380191.52\n",
       "MIGUEL TERRAZAS                   18608488.60\n",
       "JOSE ENRIQUE ARANZUBIA            16771335.30\n",
       "ERWIN PEREZ                       15578732.63"
      ]
     },
     "execution_count": 186,
     "metadata": {},
     "output_type": "execute_result"
    }
   ],
   "source": [
    "import numpy as np\n",
    "pd.set_option('display.float_format', '{:.2f}'.format)\n",
    "table3 = df_2.pivot_table(values=\"Ext value MXN OK\", index=\"Vendedor\", aggfunc=np.sum)\n",
    "table3.sort_values(by=\"Ext value MXN OK\",ascending=False).head(10)"
   ]
  },
  {
   "cell_type": "code",
   "execution_count": 185,
   "id": "93b96003",
   "metadata": {},
   "outputs": [
    {
     "data": {
      "text/plain": [
       "<AxesSubplot:xlabel='Vendedor'>"
      ]
     },
     "execution_count": 185,
     "metadata": {},
     "output_type": "execute_result"
    },
    {
     "data": {
      "image/png": "[encoded data removed]",
      "text/plain": [
       "<Figure size 432x288 with 1 Axes>"
      ]
     },
     "metadata": {
      "needs_background": "light"
     },
     "output_type": "display_data"
    }
   ],
   "source": [
    "table3.plot(kind=\"bar\")"
   ]
  },
  {
   "cell_type": "code",
   "execution_count": 189,
   "id": "f5aceffc",
   "metadata": {},
   "outputs": [
    {
     "data": {
      "text/html": [
       "<div>\n",
       "<style scoped>\n",
       "    .dataframe tbody tr th:only-of-type {\n",
       "        vertical-align: middle;\n",
       "    }\n",
       "\n",
       "    .dataframe tbody tr th {\n",
       "        vertical-align: top;\n",
       "    }\n",
       "\n",
       "    .dataframe thead th {\n",
       "        text-align: right;\n",
       "    }\n",
       "</style>\n",
       "<table border=\"1\" class=\"dataframe\">\n",
       "  <thead>\n",
       "    <tr style=\"text-align: right;\">\n",
       "      <th></th>\n",
       "      <th>Ext value MXN OK</th>\n",
       "    </tr>\n",
       "    <tr>\n",
       "      <th>Canal / Oceano Azul</th>\n",
       "      <th></th>\n",
       "    </tr>\n",
       "  </thead>\n",
       "  <tbody>\n",
       "    <tr>\n",
       "      <th>CANAL</th>\n",
       "      <td>350791220.67</td>\n",
       "    </tr>\n",
       "    <tr>\n",
       "      <th>OCEANO AZUL</th>\n",
       "      <td>60111415.52</td>\n",
       "    </tr>\n",
       "    <tr>\n",
       "      <th>MKT - E-COMMERCE</th>\n",
       "      <td>930131.72</td>\n",
       "    </tr>\n",
       "  </tbody>\n",
       "</table>\n",
       "</div>"
      ],
      "text/plain": [
       "                     Ext value MXN OK\n",
       "Canal / Oceano Azul                  \n",
       "CANAL                    350791220.67\n",
       "OCEANO AZUL               60111415.52\n",
       "MKT - E-COMMERCE            930131.72"
      ]
     },
     "execution_count": 189,
     "metadata": {},
     "output_type": "execute_result"
    }
   ],
   "source": [
    "import numpy as np\n",
    "pd.set_option('display.float_format', '{:.2f}'.format)\n",
    "table4 = df_2.pivot_table(values=\"Ext value MXN OK\", index=\"Canal / Oceano Azul\", aggfunc=np.sum)\n",
    "table4.sort_values(by=\"Ext value MXN OK\",ascending=False)"
   ]
  },
  {
   "cell_type": "code",
   "execution_count": 192,
   "id": "1b92180e",
   "metadata": {},
   "outputs": [
    {
     "data": {
      "text/plain": [
       "<AxesSubplot:xlabel='Canal / Oceano Azul'>"
      ]
     },
     "execution_count": 192,
     "metadata": {},
     "output_type": "execute_result"
    },
    {
     "data": {
      "image/png": "[encoded data removed]",
      "text/plain": [
       "<Figure size 432x288 with 1 Axes>"
      ]
     },
     "metadata": {
      "needs_background": "light"
     },
     "output_type": "display_data"
    }
   ],
   "source": [
    "table4.plot(kind=\"bar\")"
   ]
  },
  {
   "cell_type": "code",
   "execution_count": 190,
   "id": "3cb85c95",
   "metadata": {},
   "outputs": [
    {
     "data": {
      "text/html": [
       "<div>\n",
       "<style scoped>\n",
       "    .dataframe tbody tr th:only-of-type {\n",
       "        vertical-align: middle;\n",
       "    }\n",
       "\n",
       "    .dataframe tbody tr th {\n",
       "        vertical-align: top;\n",
       "    }\n",
       "\n",
       "    .dataframe thead th {\n",
       "        text-align: right;\n",
       "    }\n",
       "</style>\n",
       "<table border=\"1\" class=\"dataframe\">\n",
       "  <thead>\n",
       "    <tr style=\"text-align: right;\">\n",
       "      <th></th>\n",
       "      <th>Ext value MXN OK</th>\n",
       "    </tr>\n",
       "    <tr>\n",
       "      <th>Coordinador</th>\n",
       "      <th></th>\n",
       "    </tr>\n",
       "  </thead>\n",
       "  <tbody>\n",
       "    <tr>\n",
       "      <th>CARLOS CONTRERAS</th>\n",
       "      <td>193663609.50</td>\n",
       "    </tr>\n",
       "    <tr>\n",
       "      <th>JESUS SAN NICOLAS</th>\n",
       "      <td>165442215.81</td>\n",
       "    </tr>\n",
       "    <tr>\n",
       "      <th>EDUARDO PADRON</th>\n",
       "      <td>42401725.13</td>\n",
       "    </tr>\n",
       "    <tr>\n",
       "      <th>RICARDO DE LA CRUZ</th>\n",
       "      <td>9358258.75</td>\n",
       "    </tr>\n",
       "    <tr>\n",
       "      <th>MKT - E-COMMERCE</th>\n",
       "      <td>930131.72</td>\n",
       "    </tr>\n",
       "    <tr>\n",
       "      <th>Intercompañía</th>\n",
       "      <td>36827.01</td>\n",
       "    </tr>\n",
       "  </tbody>\n",
       "</table>\n",
       "</div>"
      ],
      "text/plain": [
       "                    Ext value MXN OK\n",
       "Coordinador                         \n",
       "CARLOS CONTRERAS        193663609.50\n",
       "JESUS SAN NICOLAS       165442215.81\n",
       "EDUARDO PADRON           42401725.13\n",
       "RICARDO DE LA CRUZ        9358258.75\n",
       "MKT - E-COMMERCE           930131.72\n",
       "Intercompañía               36827.01"
      ]
     },
     "execution_count": 190,
     "metadata": {},
     "output_type": "execute_result"
    }
   ],
   "source": [
    "import numpy as np\n",
    "pd.set_option('display.float_format', '{:.2f}'.format)\n",
    "table5 = df_2.pivot_table(values=\"Ext value MXN OK\", index=\"Coordinador\", aggfunc=np.sum)\n",
    "table5.sort_values(by=\"Ext value MXN OK\",ascending=False)"
   ]
  },
  {
   "cell_type": "code",
   "execution_count": 194,
   "id": "960e7064",
   "metadata": {},
   "outputs": [
    {
     "data": {
      "text/plain": [
       "<AxesSubplot:xlabel='Coordinador'>"
      ]
     },
     "execution_count": 194,
     "metadata": {},
     "output_type": "execute_result"
    },
    {
     "data": {
      "image/png": "[encoded data removed]",
      "text/plain": [
       "<Figure size 432x288 with 1 Axes>"
      ]
     },
     "metadata": {
      "needs_background": "light"
     },
     "output_type": "display_data"
    }
   ],
   "source": [
    "table5.plot(kind=\"bar\")"
   ]
  },
  {
   "cell_type": "code",
   "execution_count": 193,
   "id": "8ac47eaf",
   "metadata": {},
   "outputs": [
    {
     "data": {
      "text/html": [
       "<div>\n",
       "<style scoped>\n",
       "    .dataframe tbody tr th:only-of-type {\n",
       "        vertical-align: middle;\n",
       "    }\n",
       "\n",
       "    .dataframe tbody tr th {\n",
       "        vertical-align: top;\n",
       "    }\n",
       "\n",
       "    .dataframe thead th {\n",
       "        text-align: right;\n",
       "    }\n",
       "</style>\n",
       "<table border=\"1\" class=\"dataframe\">\n",
       "  <thead>\n",
       "    <tr style=\"text-align: right;\">\n",
       "      <th></th>\n",
       "      <th>Ext value MXN OK</th>\n",
       "    </tr>\n",
       "    <tr>\n",
       "      <th>Gerente</th>\n",
       "      <th></th>\n",
       "    </tr>\n",
       "  </thead>\n",
       "  <tbody>\n",
       "    <tr>\n",
       "      <th>JUAN CARLOS PRIOR</th>\n",
       "      <td>207843940.93</td>\n",
       "    </tr>\n",
       "    <tr>\n",
       "      <th>MONICA CUEVAS</th>\n",
       "      <td>203021868.24</td>\n",
       "    </tr>\n",
       "    <tr>\n",
       "      <th>MKT - E-COMMERCE</th>\n",
       "      <td>930131.72</td>\n",
       "    </tr>\n",
       "    <tr>\n",
       "      <th>Intercompañía</th>\n",
       "      <td>36827.01</td>\n",
       "    </tr>\n",
       "  </tbody>\n",
       "</table>\n",
       "</div>"
      ],
      "text/plain": [
       "                   Ext value MXN OK\n",
       "Gerente                            \n",
       "JUAN CARLOS PRIOR      207843940.93\n",
       "MONICA CUEVAS          203021868.24\n",
       "MKT - E-COMMERCE          930131.72\n",
       "Intercompañía              36827.01"
      ]
     },
     "execution_count": 193,
     "metadata": {},
     "output_type": "execute_result"
    }
   ],
   "source": [
    "import numpy as np\n",
    "pd.set_option('display.float_format', '{:.2f}'.format)\n",
    "table6 = df_2.pivot_table(values=\"Ext value MXN OK\", index=\"Gerente\", aggfunc=np.sum)\n",
    "table6.sort_values(by=\"Ext value MXN OK\",ascending=False)"
   ]
  },
  {
   "cell_type": "code",
   "execution_count": 195,
   "id": "ee076b7f",
   "metadata": {},
   "outputs": [
    {
     "data": {
      "text/plain": [
       "<AxesSubplot:xlabel='Gerente'>"
      ]
     },
     "execution_count": 195,
     "metadata": {},
     "output_type": "execute_result"
    },
    {
     "data": {
      "image/png": "[encoded data removed]",
      "text/plain": [
       "<Figure size 432x288 with 1 Axes>"
      ]
     },
     "metadata": {
      "needs_background": "light"
     },
     "output_type": "display_data"
    }
   ],
   "source": [
    "table6.plot(kind=\"bar\")"
   ]
  },
  {
   "cell_type": "code",
   "execution_count": 48,
   "id": "2b0381e3",
   "metadata": {},
   "outputs": [
    {
     "data": {
      "image/png": "[encoded data removed]",
      "text/plain": [
       "<Figure size 432x288 with 1 Axes>"
      ]
     },
     "metadata": {
      "needs_background": "light"
     },
     "output_type": "display_data"
    }
   ],
   "source": [
    "# Dispersion de venta por fecha\n",
    "import matplotlib.pyplot as plt\n",
    "import pandas as pd\n",
    "\n",
    "# Crear el gráfico de dispersión\n",
    "plt.scatter(df_2[\"Doc Created On\"],df_2[\"Ext value MXN OK\"])\n",
    "\n",
    "# Personalizar el gráfico\n",
    "plt.title('Gráfico de dispersión')\n",
    "plt.xlabel('Fecha')\n",
    "plt.ylabel('Venta')\n",
    "\n",
    "# Rotar las etiquetas del eje x si es necesario\n",
    "plt.xticks(rotation=45,fontsize=10)\n",
    "\n",
    "# Mostrar el gráfico\n",
    "plt.show()"
   ]
  },
  {
   "cell_type": "code",
   "execution_count": 50,
   "id": "f69bbb89",
   "metadata": {},
   "outputs": [
    {
     "data": {
      "image/png": "[encoded data removed]",
      "text/plain": [
       "<Figure size 432x288 with 1 Axes>"
      ]
     },
     "metadata": {
      "needs_background": "light"
     },
     "output_type": "display_data"
    }
   ],
   "source": [
    "# Dispersion de standard margin por fecha\n",
    "import matplotlib.pyplot as plt\n",
    "import pandas as pd\n",
    "\n",
    "# Crear el gráfico de dispersión\n",
    "plt.scatter(df_2[\"Doc Created On\"],df_2[\"STD MARGIN\"])\n",
    "\n",
    "# Personalizar el gráfico\n",
    "plt.title('Gráfico de dispersión')\n",
    "plt.xlabel('Fecha')\n",
    "plt.ylabel('Standard Margin')\n",
    "\n",
    "# Rotar las etiquetas del eje x si es necesario\n",
    "plt.xticks(rotation=45,fontsize=10)\n",
    "\n",
    "# Mostrar el gráfico\n",
    "plt.show()"
   ]
  },
  {
   "cell_type": "code",
   "execution_count": 53,
   "id": "aa643aa7",
   "metadata": {},
   "outputs": [
    {
     "data": {
      "image/png": "[encoded data removed]",
      "text/plain": [
       "<Figure size 432x288 with 1 Axes>"
      ]
     },
     "metadata": {
      "needs_background": "light"
     },
     "output_type": "display_data"
    }
   ],
   "source": [
    "# BOXPLOT VENTA\n",
    "import matplotlib.pyplot as plt\n",
    "\n",
    "# Crear el diagrama de caja\n",
    "plt.boxplot(df_2[\"Ext value MXN OK\"])\n",
    "\n",
    "# Personalizar el gráfico\n",
    "plt.title('Diagrama de Caja')\n",
    "plt.xlabel('Venta')\n",
    "plt.ylabel('Valores')\n",
    "\n",
    "# Mostrar el gráfico\n",
    "plt.show()"
   ]
  },
  {
   "cell_type": "code",
   "execution_count": 55,
   "id": "1a5a2973",
   "metadata": {},
   "outputs": [
    {
     "data": {
      "image/png": "[encoded data removed]",
      "text/plain": [
       "<Figure size 432x288 with 1 Axes>"
      ]
     },
     "metadata": {
      "needs_background": "light"
     },
     "output_type": "display_data"
    }
   ],
   "source": [
    "# BOXPLOT std margin\n",
    "import matplotlib.pyplot as plt\n",
    "\n",
    "# Crear el diagrama de caja\n",
    "plt.boxplot(df_2[\"STD MARGIN\"])\n",
    "\n",
    "# Personalizar el gráfico\n",
    "plt.title('Diagrama de Caja')\n",
    "plt.xlabel('Standard Margin')\n",
    "plt.ylabel('Valores')\n",
    "\n",
    "# Mostrar el gráfico\n",
    "plt.show()"
   ]
  },
  {
   "cell_type": "code",
   "execution_count": null,
   "id": "3e400256",
   "metadata": {},
   "outputs": [],
   "source": []
  }
 ],
 "metadata": {
  "kernelspec": {
   "display_name": "Python 3 (ipykernel)",
   "language": "python",
   "name": "python3"
  },
  "language_info": {
   "codemirror_mode": {
    "name": "ipython",
    "version": 3
   },
   "file_extension": ".py",
   "mimetype": "text/x-python",
   "name": "python",
   "nbconvert_exporter": "python",
   "pygments_lexer": "ipython3",
   "version": "3.9.7"
  }
 },
 "nbformat": 4,
 "nbformat_minor": 5
}
